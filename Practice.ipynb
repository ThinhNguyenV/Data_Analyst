{
 "cells": [
  {
   "cell_type": "markdown",
   "metadata": {},
   "source": [
    "# Import libraries"
   ]
  },
  {
   "cell_type": "code",
   "execution_count": 1,
   "metadata": {},
   "outputs": [],
   "source": [
    "import numpy as np\n",
    "import pandas as pd\n",
    "import matplotlib.pyplot as plt\n",
    "import seaborn as sns\n",
    "\n",
    "%matplotlib inline"
   ]
  },
  {
   "cell_type": "code",
   "execution_count": 2,
   "metadata": {},
   "outputs": [],
   "source": [
    "pd.options.display.float_format = \"{:.2f}\".format"
   ]
  },
  {
   "cell_type": "markdown",
   "metadata": {},
   "source": [
    "<img src=\"11.PNG\"  style=\"width:900px;\" align=\"center\">"
   ]
  },
  {
   "cell_type": "markdown",
   "metadata": {},
   "source": [
    "# Get the Data"
   ]
  },
  {
   "cell_type": "code",
   "execution_count": 3,
   "metadata": {},
   "outputs": [],
   "source": [
    "transactions = pd.read_csv('./transactions.csv')"
   ]
  },
  {
   "cell_type": "code",
   "execution_count": 4,
   "metadata": {},
   "outputs": [],
   "source": [
    "products = pd.read_csv('./products.csv')"
   ]
  },
  {
   "cell_type": "code",
   "execution_count": 5,
   "metadata": {},
   "outputs": [],
   "source": [
    "markets = pd.read_csv('./markets.csv')"
   ]
  },
  {
   "cell_type": "code",
   "execution_count": 6,
   "metadata": {},
   "outputs": [],
   "source": [
    "customers = pd.read_csv('./customers.csv')"
   ]
  },
  {
   "cell_type": "code",
   "execution_count": 7,
   "metadata": {},
   "outputs": [],
   "source": [
    "date = pd.read_csv('./date.csv')"
   ]
  },
  {
   "cell_type": "markdown",
   "metadata": {},
   "source": [
    "### Showing All the Tables"
   ]
  },
  {
   "cell_type": "code",
   "execution_count": 8,
   "metadata": {},
   "outputs": [
    {
     "data": {
      "text/html": [
       "<div>\n",
       "<style scoped>\n",
       "    .dataframe tbody tr th:only-of-type {\n",
       "        vertical-align: middle;\n",
       "    }\n",
       "\n",
       "    .dataframe tbody tr th {\n",
       "        vertical-align: top;\n",
       "    }\n",
       "\n",
       "    .dataframe thead th {\n",
       "        text-align: right;\n",
       "    }\n",
       "</style>\n",
       "<table border=\"1\" class=\"dataframe\">\n",
       "  <thead>\n",
       "    <tr style=\"text-align: right;\">\n",
       "      <th></th>\n",
       "      <th>product_code</th>\n",
       "      <th>customer_code</th>\n",
       "      <th>market_code</th>\n",
       "      <th>order_date</th>\n",
       "      <th>sales_qty</th>\n",
       "      <th>sales_amount</th>\n",
       "      <th>currency</th>\n",
       "    </tr>\n",
       "  </thead>\n",
       "  <tbody>\n",
       "    <tr>\n",
       "      <th>0</th>\n",
       "      <td>Prod001</td>\n",
       "      <td>Cus001</td>\n",
       "      <td>Mark001</td>\n",
       "      <td>2017-10-10</td>\n",
       "      <td>100</td>\n",
       "      <td>41241.00</td>\n",
       "      <td>INR</td>\n",
       "    </tr>\n",
       "    <tr>\n",
       "      <th>1</th>\n",
       "      <td>Prod001</td>\n",
       "      <td>Cus002</td>\n",
       "      <td>Mark002</td>\n",
       "      <td>2018-05-08</td>\n",
       "      <td>3</td>\n",
       "      <td>-1.00</td>\n",
       "      <td>INR</td>\n",
       "    </tr>\n",
       "    <tr>\n",
       "      <th>2</th>\n",
       "      <td>Prod002</td>\n",
       "      <td>Cus003</td>\n",
       "      <td>Mark003</td>\n",
       "      <td>2018-04-06</td>\n",
       "      <td>1</td>\n",
       "      <td>875.00</td>\n",
       "      <td>INR</td>\n",
       "    </tr>\n",
       "  </tbody>\n",
       "</table>\n",
       "</div>"
      ],
      "text/plain": [
       "  product_code customer_code market_code  order_date  sales_qty  sales_amount  \\\n",
       "0      Prod001        Cus001     Mark001  2017-10-10        100      41241.00   \n",
       "1      Prod001        Cus002     Mark002  2018-05-08          3         -1.00   \n",
       "2      Prod002        Cus003     Mark003  2018-04-06          1        875.00   \n",
       "\n",
       "  currency  \n",
       "0      INR  \n",
       "1      INR  \n",
       "2      INR  "
      ]
     },
     "execution_count": 8,
     "metadata": {},
     "output_type": "execute_result"
    }
   ],
   "source": [
    "transactions.head(3)"
   ]
  },
  {
   "cell_type": "code",
   "execution_count": 9,
   "metadata": {},
   "outputs": [
    {
     "data": {
      "text/html": [
       "<div>\n",
       "<style scoped>\n",
       "    .dataframe tbody tr th:only-of-type {\n",
       "        vertical-align: middle;\n",
       "    }\n",
       "\n",
       "    .dataframe tbody tr th {\n",
       "        vertical-align: top;\n",
       "    }\n",
       "\n",
       "    .dataframe thead th {\n",
       "        text-align: right;\n",
       "    }\n",
       "</style>\n",
       "<table border=\"1\" class=\"dataframe\">\n",
       "  <thead>\n",
       "    <tr style=\"text-align: right;\">\n",
       "      <th></th>\n",
       "      <th>product_code</th>\n",
       "      <th>product_type</th>\n",
       "    </tr>\n",
       "  </thead>\n",
       "  <tbody>\n",
       "    <tr>\n",
       "      <th>149</th>\n",
       "      <td>Prod150</td>\n",
       "      <td>Own Brand</td>\n",
       "    </tr>\n",
       "    <tr>\n",
       "      <th>194</th>\n",
       "      <td>Prod195</td>\n",
       "      <td>Own Brand</td>\n",
       "    </tr>\n",
       "  </tbody>\n",
       "</table>\n",
       "</div>"
      ],
      "text/plain": [
       "    product_code product_type\n",
       "149      Prod150    Own Brand\n",
       "194      Prod195    Own Brand"
      ]
     },
     "execution_count": 9,
     "metadata": {},
     "output_type": "execute_result"
    }
   ],
   "source": [
    "products.sample(2)"
   ]
  },
  {
   "cell_type": "code",
   "execution_count": 10,
   "metadata": {},
   "outputs": [
    {
     "data": {
      "text/html": [
       "<div>\n",
       "<style scoped>\n",
       "    .dataframe tbody tr th:only-of-type {\n",
       "        vertical-align: middle;\n",
       "    }\n",
       "\n",
       "    .dataframe tbody tr th {\n",
       "        vertical-align: top;\n",
       "    }\n",
       "\n",
       "    .dataframe thead th {\n",
       "        text-align: right;\n",
       "    }\n",
       "</style>\n",
       "<table border=\"1\" class=\"dataframe\">\n",
       "  <thead>\n",
       "    <tr style=\"text-align: right;\">\n",
       "      <th></th>\n",
       "      <th>customer_code</th>\n",
       "      <th>custmer_name</th>\n",
       "      <th>customer_type</th>\n",
       "    </tr>\n",
       "  </thead>\n",
       "  <tbody>\n",
       "    <tr>\n",
       "      <th>31</th>\n",
       "      <td>Cus032</td>\n",
       "      <td>Elite</td>\n",
       "      <td>E-Commerce</td>\n",
       "    </tr>\n",
       "    <tr>\n",
       "      <th>7</th>\n",
       "      <td>Cus008</td>\n",
       "      <td>Acclaimed Stores</td>\n",
       "      <td>Brick &amp; Mortar</td>\n",
       "    </tr>\n",
       "  </tbody>\n",
       "</table>\n",
       "</div>"
      ],
      "text/plain": [
       "   customer_code      custmer_name   customer_type\n",
       "31        Cus032             Elite      E-Commerce\n",
       "7         Cus008  Acclaimed Stores  Brick & Mortar"
      ]
     },
     "execution_count": 10,
     "metadata": {},
     "output_type": "execute_result"
    }
   ],
   "source": [
    "customers.sample(2)"
   ]
  },
  {
   "cell_type": "code",
   "execution_count": 11,
   "metadata": {},
   "outputs": [
    {
     "data": {
      "text/html": [
       "<div>\n",
       "<style scoped>\n",
       "    .dataframe tbody tr th:only-of-type {\n",
       "        vertical-align: middle;\n",
       "    }\n",
       "\n",
       "    .dataframe tbody tr th {\n",
       "        vertical-align: top;\n",
       "    }\n",
       "\n",
       "    .dataframe thead th {\n",
       "        text-align: right;\n",
       "    }\n",
       "</style>\n",
       "<table border=\"1\" class=\"dataframe\">\n",
       "  <thead>\n",
       "    <tr style=\"text-align: right;\">\n",
       "      <th></th>\n",
       "      <th>markets_code</th>\n",
       "      <th>markets_name</th>\n",
       "      <th>zone</th>\n",
       "    </tr>\n",
       "  </thead>\n",
       "  <tbody>\n",
       "    <tr>\n",
       "      <th>14</th>\n",
       "      <td>Mark015</td>\n",
       "      <td>Bhubaneshwar</td>\n",
       "      <td>South</td>\n",
       "    </tr>\n",
       "    <tr>\n",
       "      <th>3</th>\n",
       "      <td>Mark004</td>\n",
       "      <td>Delhi NCR</td>\n",
       "      <td>North</td>\n",
       "    </tr>\n",
       "  </tbody>\n",
       "</table>\n",
       "</div>"
      ],
      "text/plain": [
       "   markets_code  markets_name   zone\n",
       "14      Mark015  Bhubaneshwar  South\n",
       "3       Mark004     Delhi NCR  North"
      ]
     },
     "execution_count": 11,
     "metadata": {},
     "output_type": "execute_result"
    }
   ],
   "source": [
    "markets.sample(2)"
   ]
  },
  {
   "cell_type": "code",
   "execution_count": 12,
   "metadata": {},
   "outputs": [
    {
     "data": {
      "text/html": [
       "<div>\n",
       "<style scoped>\n",
       "    .dataframe tbody tr th:only-of-type {\n",
       "        vertical-align: middle;\n",
       "    }\n",
       "\n",
       "    .dataframe tbody tr th {\n",
       "        vertical-align: top;\n",
       "    }\n",
       "\n",
       "    .dataframe thead th {\n",
       "        text-align: right;\n",
       "    }\n",
       "</style>\n",
       "<table border=\"1\" class=\"dataframe\">\n",
       "  <thead>\n",
       "    <tr style=\"text-align: right;\">\n",
       "      <th></th>\n",
       "      <th>date</th>\n",
       "      <th>cy_date</th>\n",
       "      <th>year</th>\n",
       "      <th>month_name</th>\n",
       "      <th>date_yy_mmm</th>\n",
       "    </tr>\n",
       "  </thead>\n",
       "  <tbody>\n",
       "    <tr>\n",
       "      <th>766</th>\n",
       "      <td>2019-07-07</td>\n",
       "      <td>2019-07-01</td>\n",
       "      <td>2019</td>\n",
       "      <td>July</td>\n",
       "      <td>19-Jul</td>\n",
       "    </tr>\n",
       "    <tr>\n",
       "      <th>606</th>\n",
       "      <td>2019-01-28</td>\n",
       "      <td>2019-01-01</td>\n",
       "      <td>2019</td>\n",
       "      <td>January</td>\n",
       "      <td>19-Jan</td>\n",
       "    </tr>\n",
       "  </tbody>\n",
       "</table>\n",
       "</div>"
      ],
      "text/plain": [
       "           date     cy_date  year month_name date_yy_mmm\n",
       "766  2019-07-07  2019-07-01  2019       July      19-Jul\n",
       "606  2019-01-28  2019-01-01  2019    January      19-Jan"
      ]
     },
     "execution_count": 12,
     "metadata": {},
     "output_type": "execute_result"
    }
   ],
   "source": [
    "date.sample(2)"
   ]
  },
  {
   "cell_type": "markdown",
   "metadata": {},
   "source": [
    "# Transactions"
   ]
  },
  {
   "cell_type": "code",
   "execution_count": 13,
   "metadata": {},
   "outputs": [
    {
     "data": {
      "text/plain": [
       "product_code      object\n",
       "customer_code     object\n",
       "market_code       object\n",
       "order_date        object\n",
       "sales_qty          int64\n",
       "sales_amount     float64\n",
       "currency          object\n",
       "dtype: object"
      ]
     },
     "execution_count": 13,
     "metadata": {},
     "output_type": "execute_result"
    }
   ],
   "source": [
    "transactions.dtypes"
   ]
  },
  {
   "cell_type": "markdown",
   "metadata": {},
   "source": [
    "### Check null values"
   ]
  },
  {
   "cell_type": "code",
   "execution_count": 14,
   "metadata": {},
   "outputs": [
    {
     "data": {
      "text/plain": [
       "product_code     0\n",
       "customer_code    0\n",
       "market_code      0\n",
       "order_date       0\n",
       "sales_qty        0\n",
       "sales_amount     0\n",
       "currency         0\n",
       "dtype: int64"
      ]
     },
     "execution_count": 14,
     "metadata": {},
     "output_type": "execute_result"
    }
   ],
   "source": [
    "transactions.isnull().sum()"
   ]
  },
  {
   "cell_type": "markdown",
   "metadata": {},
   "source": [
    "### sales_amout below 1"
   ]
  },
  {
   "cell_type": "code",
   "execution_count": 15,
   "metadata": {},
   "outputs": [
    {
     "data": {
      "text/html": [
       "<div>\n",
       "<style scoped>\n",
       "    .dataframe tbody tr th:only-of-type {\n",
       "        vertical-align: middle;\n",
       "    }\n",
       "\n",
       "    .dataframe tbody tr th {\n",
       "        vertical-align: top;\n",
       "    }\n",
       "\n",
       "    .dataframe thead th {\n",
       "        text-align: right;\n",
       "    }\n",
       "</style>\n",
       "<table border=\"1\" class=\"dataframe\">\n",
       "  <thead>\n",
       "    <tr style=\"text-align: right;\">\n",
       "      <th></th>\n",
       "      <th>product_code</th>\n",
       "      <th>customer_code</th>\n",
       "      <th>market_code</th>\n",
       "      <th>order_date</th>\n",
       "      <th>sales_qty</th>\n",
       "      <th>sales_amount</th>\n",
       "      <th>currency</th>\n",
       "    </tr>\n",
       "  </thead>\n",
       "  <tbody>\n",
       "    <tr>\n",
       "      <th>137944</th>\n",
       "      <td>Prod318</td>\n",
       "      <td>Cus015</td>\n",
       "      <td>Mark003</td>\n",
       "      <td>2020-02-21</td>\n",
       "      <td>1</td>\n",
       "      <td>0.00</td>\n",
       "      <td>INR</td>\n",
       "    </tr>\n",
       "    <tr>\n",
       "      <th>136978</th>\n",
       "      <td>Prod318</td>\n",
       "      <td>Cus015</td>\n",
       "      <td>Mark003</td>\n",
       "      <td>2019-04-19</td>\n",
       "      <td>1</td>\n",
       "      <td>0.00</td>\n",
       "      <td>INR</td>\n",
       "    </tr>\n",
       "    <tr>\n",
       "      <th>64555</th>\n",
       "      <td>Prod234</td>\n",
       "      <td>Cus003</td>\n",
       "      <td>Mark003</td>\n",
       "      <td>2020-06-03</td>\n",
       "      <td>1</td>\n",
       "      <td>0.00</td>\n",
       "      <td>INR</td>\n",
       "    </tr>\n",
       "  </tbody>\n",
       "</table>\n",
       "</div>"
      ],
      "text/plain": [
       "       product_code customer_code market_code  order_date  sales_qty  \\\n",
       "137944      Prod318        Cus015     Mark003  2020-02-21          1   \n",
       "136978      Prod318        Cus015     Mark003  2019-04-19          1   \n",
       "64555       Prod234        Cus003     Mark003  2020-06-03          1   \n",
       "\n",
       "        sales_amount currency  \n",
       "137944          0.00      INR  \n",
       "136978          0.00      INR  \n",
       "64555           0.00      INR  "
      ]
     },
     "execution_count": 15,
     "metadata": {},
     "output_type": "execute_result"
    }
   ],
   "source": [
    "transactions[transactions['sales_amount'] <= 0].sample(3)"
   ]
  },
  {
   "cell_type": "code",
   "execution_count": 16,
   "metadata": {},
   "outputs": [
    {
     "data": {
      "text/plain": [
       "1611"
      ]
     },
     "execution_count": 16,
     "metadata": {},
     "output_type": "execute_result"
    }
   ],
   "source": [
    "len(transactions[transactions['sales_amount'] <= 0])"
   ]
  },
  {
   "cell_type": "code",
   "execution_count": 17,
   "metadata": {},
   "outputs": [
    {
     "data": {
      "text/plain": [
       "(150283, 7)"
      ]
     },
     "execution_count": 17,
     "metadata": {},
     "output_type": "execute_result"
    }
   ],
   "source": [
    "transactions.shape"
   ]
  },
  {
   "cell_type": "code",
   "execution_count": 18,
   "metadata": {},
   "outputs": [],
   "source": [
    "transactions.drop(transactions[transactions['sales_amount'] <= 0].index, inplace=True)"
   ]
  },
  {
   "cell_type": "code",
   "execution_count": 19,
   "metadata": {},
   "outputs": [
    {
     "data": {
      "text/plain": [
       "(148672, 7)"
      ]
     },
     "execution_count": 19,
     "metadata": {},
     "output_type": "execute_result"
    }
   ],
   "source": [
    "transactions.shape"
   ]
  },
  {
   "cell_type": "markdown",
   "metadata": {},
   "source": [
    "### USD to INR conversation"
   ]
  },
  {
   "cell_type": "code",
   "execution_count": 20,
   "metadata": {},
   "outputs": [
    {
     "data": {
      "text/plain": [
       "array(['INR', 'USD'], dtype=object)"
      ]
     },
     "execution_count": 20,
     "metadata": {},
     "output_type": "execute_result"
    }
   ],
   "source": [
    "transactions['currency'].unique()"
   ]
  },
  {
   "cell_type": "code",
   "execution_count": 21,
   "metadata": {},
   "outputs": [
    {
     "data": {
      "text/html": [
       "<div>\n",
       "<style scoped>\n",
       "    .dataframe tbody tr th:only-of-type {\n",
       "        vertical-align: middle;\n",
       "    }\n",
       "\n",
       "    .dataframe tbody tr th {\n",
       "        vertical-align: top;\n",
       "    }\n",
       "\n",
       "    .dataframe thead th {\n",
       "        text-align: right;\n",
       "    }\n",
       "</style>\n",
       "<table border=\"1\" class=\"dataframe\">\n",
       "  <thead>\n",
       "    <tr style=\"text-align: right;\">\n",
       "      <th></th>\n",
       "      <th>product_code</th>\n",
       "      <th>customer_code</th>\n",
       "      <th>market_code</th>\n",
       "      <th>order_date</th>\n",
       "      <th>sales_qty</th>\n",
       "      <th>sales_amount</th>\n",
       "      <th>currency</th>\n",
       "    </tr>\n",
       "  </thead>\n",
       "  <tbody>\n",
       "    <tr>\n",
       "      <th>5</th>\n",
       "      <td>Prod003</td>\n",
       "      <td>Cus005</td>\n",
       "      <td>Mark004</td>\n",
       "      <td>2017-11-20</td>\n",
       "      <td>59</td>\n",
       "      <td>500.00</td>\n",
       "      <td>USD</td>\n",
       "    </tr>\n",
       "    <tr>\n",
       "      <th>6</th>\n",
       "      <td>Prod003</td>\n",
       "      <td>Cus005</td>\n",
       "      <td>Mark004</td>\n",
       "      <td>2017-11-22</td>\n",
       "      <td>36</td>\n",
       "      <td>250.00</td>\n",
       "      <td>USD</td>\n",
       "    </tr>\n",
       "    <tr>\n",
       "      <th>286</th>\n",
       "      <td>Prod003</td>\n",
       "      <td>Cus005</td>\n",
       "      <td>Mark004</td>\n",
       "      <td>2017-11-20</td>\n",
       "      <td>59</td>\n",
       "      <td>500.00</td>\n",
       "      <td>USD</td>\n",
       "    </tr>\n",
       "    <tr>\n",
       "      <th>287</th>\n",
       "      <td>Prod003</td>\n",
       "      <td>Cus005</td>\n",
       "      <td>Mark004</td>\n",
       "      <td>2017-11-22</td>\n",
       "      <td>36</td>\n",
       "      <td>250.00</td>\n",
       "      <td>USD</td>\n",
       "    </tr>\n",
       "  </tbody>\n",
       "</table>\n",
       "</div>"
      ],
      "text/plain": [
       "    product_code customer_code market_code  order_date  sales_qty  \\\n",
       "5        Prod003        Cus005     Mark004  2017-11-20         59   \n",
       "6        Prod003        Cus005     Mark004  2017-11-22         36   \n",
       "286      Prod003        Cus005     Mark004  2017-11-20         59   \n",
       "287      Prod003        Cus005     Mark004  2017-11-22         36   \n",
       "\n",
       "     sales_amount currency  \n",
       "5          500.00      USD  \n",
       "6          250.00      USD  \n",
       "286        500.00      USD  \n",
       "287        250.00      USD  "
      ]
     },
     "execution_count": 21,
     "metadata": {},
     "output_type": "execute_result"
    }
   ],
   "source": [
    "transactions[transactions['currency'] == 'USD']"
   ]
  },
  {
   "cell_type": "code",
   "execution_count": 22,
   "metadata": {},
   "outputs": [
    {
     "data": {
      "text/plain": [
       "5     500.00\n",
       "6     250.00\n",
       "286   500.00\n",
       "287   250.00\n",
       "Name: sales_amount, dtype: float64"
      ]
     },
     "execution_count": 22,
     "metadata": {},
     "output_type": "execute_result"
    }
   ],
   "source": [
    "transactions[transactions['currency'] == 'USD']['sales_amount']"
   ]
  },
  {
   "cell_type": "code",
   "execution_count": 23,
   "metadata": {},
   "outputs": [],
   "source": [
    "val = transactions[transactions['currency'] == 'USD'].index"
   ]
  },
  {
   "cell_type": "code",
   "execution_count": 24,
   "metadata": {},
   "outputs": [
    {
     "data": {
      "text/plain": [
       "Index([5, 6, 286, 287], dtype='int64')"
      ]
     },
     "execution_count": 24,
     "metadata": {},
     "output_type": "execute_result"
    }
   ],
   "source": [
    "val"
   ]
  },
  {
   "cell_type": "code",
   "execution_count": 25,
   "metadata": {},
   "outputs": [],
   "source": [
    "for x in val:\n",
    "    transactions.at[x,'sales_amount'] = transactions.at[x,'sales_amount'] * 75\n",
    "    transactions.at[x,'currency'] = 'INR'"
   ]
  },
  {
   "cell_type": "code",
   "execution_count": 26,
   "metadata": {},
   "outputs": [
    {
     "data": {
      "text/html": [
       "<div>\n",
       "<style scoped>\n",
       "    .dataframe tbody tr th:only-of-type {\n",
       "        vertical-align: middle;\n",
       "    }\n",
       "\n",
       "    .dataframe tbody tr th {\n",
       "        vertical-align: top;\n",
       "    }\n",
       "\n",
       "    .dataframe thead th {\n",
       "        text-align: right;\n",
       "    }\n",
       "</style>\n",
       "<table border=\"1\" class=\"dataframe\">\n",
       "  <thead>\n",
       "    <tr style=\"text-align: right;\">\n",
       "      <th></th>\n",
       "      <th>product_code</th>\n",
       "      <th>customer_code</th>\n",
       "      <th>market_code</th>\n",
       "      <th>order_date</th>\n",
       "      <th>sales_qty</th>\n",
       "      <th>sales_amount</th>\n",
       "      <th>currency</th>\n",
       "    </tr>\n",
       "  </thead>\n",
       "  <tbody>\n",
       "    <tr>\n",
       "      <th>5</th>\n",
       "      <td>Prod003</td>\n",
       "      <td>Cus005</td>\n",
       "      <td>Mark004</td>\n",
       "      <td>2017-11-20</td>\n",
       "      <td>59</td>\n",
       "      <td>37500.00</td>\n",
       "      <td>INR</td>\n",
       "    </tr>\n",
       "    <tr>\n",
       "      <th>6</th>\n",
       "      <td>Prod003</td>\n",
       "      <td>Cus005</td>\n",
       "      <td>Mark004</td>\n",
       "      <td>2017-11-22</td>\n",
       "      <td>36</td>\n",
       "      <td>18750.00</td>\n",
       "      <td>INR</td>\n",
       "    </tr>\n",
       "    <tr>\n",
       "      <th>286</th>\n",
       "      <td>Prod003</td>\n",
       "      <td>Cus005</td>\n",
       "      <td>Mark004</td>\n",
       "      <td>2017-11-20</td>\n",
       "      <td>59</td>\n",
       "      <td>37500.00</td>\n",
       "      <td>INR</td>\n",
       "    </tr>\n",
       "    <tr>\n",
       "      <th>287</th>\n",
       "      <td>Prod003</td>\n",
       "      <td>Cus005</td>\n",
       "      <td>Mark004</td>\n",
       "      <td>2017-11-22</td>\n",
       "      <td>36</td>\n",
       "      <td>18750.00</td>\n",
       "      <td>INR</td>\n",
       "    </tr>\n",
       "  </tbody>\n",
       "</table>\n",
       "</div>"
      ],
      "text/plain": [
       "    product_code customer_code market_code  order_date  sales_qty  \\\n",
       "5        Prod003        Cus005     Mark004  2017-11-20         59   \n",
       "6        Prod003        Cus005     Mark004  2017-11-22         36   \n",
       "286      Prod003        Cus005     Mark004  2017-11-20         59   \n",
       "287      Prod003        Cus005     Mark004  2017-11-22         36   \n",
       "\n",
       "     sales_amount currency  \n",
       "5        37500.00      INR  \n",
       "6        18750.00      INR  \n",
       "286      37500.00      INR  \n",
       "287      18750.00      INR  "
      ]
     },
     "execution_count": 26,
     "metadata": {},
     "output_type": "execute_result"
    }
   ],
   "source": [
    "transactions.loc[val]"
   ]
  },
  {
   "cell_type": "markdown",
   "metadata": {},
   "source": [
    "### Adding column product_price"
   ]
  },
  {
   "cell_type": "code",
   "execution_count": 27,
   "metadata": {},
   "outputs": [],
   "source": [
    "transactions['product_price'] = transactions['sales_amount'] / transactions['sales_qty']"
   ]
  },
  {
   "cell_type": "code",
   "execution_count": 28,
   "metadata": {},
   "outputs": [
    {
     "data": {
      "text/html": [
       "<div>\n",
       "<style scoped>\n",
       "    .dataframe tbody tr th:only-of-type {\n",
       "        vertical-align: middle;\n",
       "    }\n",
       "\n",
       "    .dataframe tbody tr th {\n",
       "        vertical-align: top;\n",
       "    }\n",
       "\n",
       "    .dataframe thead th {\n",
       "        text-align: right;\n",
       "    }\n",
       "</style>\n",
       "<table border=\"1\" class=\"dataframe\">\n",
       "  <thead>\n",
       "    <tr style=\"text-align: right;\">\n",
       "      <th></th>\n",
       "      <th>product_code</th>\n",
       "      <th>customer_code</th>\n",
       "      <th>market_code</th>\n",
       "      <th>order_date</th>\n",
       "      <th>sales_qty</th>\n",
       "      <th>sales_amount</th>\n",
       "      <th>currency</th>\n",
       "      <th>product_price</th>\n",
       "    </tr>\n",
       "  </thead>\n",
       "  <tbody>\n",
       "    <tr>\n",
       "      <th>0</th>\n",
       "      <td>Prod001</td>\n",
       "      <td>Cus001</td>\n",
       "      <td>Mark001</td>\n",
       "      <td>2017-10-10</td>\n",
       "      <td>100</td>\n",
       "      <td>41241.00</td>\n",
       "      <td>INR</td>\n",
       "      <td>412.41</td>\n",
       "    </tr>\n",
       "    <tr>\n",
       "      <th>2</th>\n",
       "      <td>Prod002</td>\n",
       "      <td>Cus003</td>\n",
       "      <td>Mark003</td>\n",
       "      <td>2018-04-06</td>\n",
       "      <td>1</td>\n",
       "      <td>875.00</td>\n",
       "      <td>INR</td>\n",
       "      <td>875.00</td>\n",
       "    </tr>\n",
       "    <tr>\n",
       "      <th>3</th>\n",
       "      <td>Prod002</td>\n",
       "      <td>Cus003</td>\n",
       "      <td>Mark003</td>\n",
       "      <td>2018-04-11</td>\n",
       "      <td>1</td>\n",
       "      <td>583.00</td>\n",
       "      <td>INR</td>\n",
       "      <td>583.00</td>\n",
       "    </tr>\n",
       "    <tr>\n",
       "      <th>4</th>\n",
       "      <td>Prod002</td>\n",
       "      <td>Cus004</td>\n",
       "      <td>Mark003</td>\n",
       "      <td>2018-06-18</td>\n",
       "      <td>6</td>\n",
       "      <td>7176.00</td>\n",
       "      <td>INR</td>\n",
       "      <td>1196.00</td>\n",
       "    </tr>\n",
       "  </tbody>\n",
       "</table>\n",
       "</div>"
      ],
      "text/plain": [
       "  product_code customer_code market_code  order_date  sales_qty  sales_amount  \\\n",
       "0      Prod001        Cus001     Mark001  2017-10-10        100      41241.00   \n",
       "2      Prod002        Cus003     Mark003  2018-04-06          1        875.00   \n",
       "3      Prod002        Cus003     Mark003  2018-04-11          1        583.00   \n",
       "4      Prod002        Cus004     Mark003  2018-06-18          6       7176.00   \n",
       "\n",
       "  currency  product_price  \n",
       "0      INR         412.41  \n",
       "2      INR         875.00  \n",
       "3      INR         583.00  \n",
       "4      INR        1196.00  "
      ]
     },
     "execution_count": 28,
     "metadata": {},
     "output_type": "execute_result"
    }
   ],
   "source": [
    "transactions.head(4)"
   ]
  },
  {
   "cell_type": "code",
   "execution_count": 29,
   "metadata": {},
   "outputs": [
    {
     "data": {
      "text/plain": [
       "product_code     0\n",
       "customer_code    0\n",
       "market_code      0\n",
       "order_date       0\n",
       "sales_qty        0\n",
       "sales_amount     0\n",
       "currency         0\n",
       "product_price    0\n",
       "dtype: int64"
      ]
     },
     "execution_count": 29,
     "metadata": {},
     "output_type": "execute_result"
    }
   ],
   "source": [
    "transactions.isnull().sum()"
   ]
  },
  {
   "cell_type": "markdown",
   "metadata": {},
   "source": [
    "### Adding column original_price\n",
    "#### original_price refers to product price without profit"
   ]
  },
  {
   "cell_type": "code",
   "execution_count": 30,
   "metadata": {},
   "outputs": [],
   "source": [
    "def calc_perc(y):\n",
    "    profit = 8\n",
    "    \n",
    "    if y > 4000:\n",
    "        profit = 23\n",
    "    elif y > 3000:\n",
    "        profit = 19\n",
    "    elif y > 2000:\n",
    "        profit = 17\n",
    "    elif y > 1000:\n",
    "        profit = 15\n",
    "    elif y > 500:\n",
    "        profit = 13\n",
    "    elif y > 100:\n",
    "        profit = 11\n",
    "    else:\n",
    "        profit = 8\n",
    "        \n",
    "    return profit    "
   ]
  },
  {
   "cell_type": "code",
   "execution_count": 31,
   "metadata": {},
   "outputs": [],
   "source": [
    "transactions['profit_percentage'] = transactions['product_price'].apply(calc_perc)"
   ]
  },
  {
   "cell_type": "code",
   "execution_count": 32,
   "metadata": {},
   "outputs": [
    {
     "data": {
      "text/html": [
       "<div>\n",
       "<style scoped>\n",
       "    .dataframe tbody tr th:only-of-type {\n",
       "        vertical-align: middle;\n",
       "    }\n",
       "\n",
       "    .dataframe tbody tr th {\n",
       "        vertical-align: top;\n",
       "    }\n",
       "\n",
       "    .dataframe thead th {\n",
       "        text-align: right;\n",
       "    }\n",
       "</style>\n",
       "<table border=\"1\" class=\"dataframe\">\n",
       "  <thead>\n",
       "    <tr style=\"text-align: right;\">\n",
       "      <th></th>\n",
       "      <th>product_code</th>\n",
       "      <th>customer_code</th>\n",
       "      <th>market_code</th>\n",
       "      <th>order_date</th>\n",
       "      <th>sales_qty</th>\n",
       "      <th>sales_amount</th>\n",
       "      <th>currency</th>\n",
       "      <th>product_price</th>\n",
       "      <th>profit_percentage</th>\n",
       "    </tr>\n",
       "  </thead>\n",
       "  <tbody>\n",
       "    <tr>\n",
       "      <th>0</th>\n",
       "      <td>Prod001</td>\n",
       "      <td>Cus001</td>\n",
       "      <td>Mark001</td>\n",
       "      <td>2017-10-10</td>\n",
       "      <td>100</td>\n",
       "      <td>41241.00</td>\n",
       "      <td>INR</td>\n",
       "      <td>412.41</td>\n",
       "      <td>11</td>\n",
       "    </tr>\n",
       "    <tr>\n",
       "      <th>2</th>\n",
       "      <td>Prod002</td>\n",
       "      <td>Cus003</td>\n",
       "      <td>Mark003</td>\n",
       "      <td>2018-04-06</td>\n",
       "      <td>1</td>\n",
       "      <td>875.00</td>\n",
       "      <td>INR</td>\n",
       "      <td>875.00</td>\n",
       "      <td>13</td>\n",
       "    </tr>\n",
       "    <tr>\n",
       "      <th>3</th>\n",
       "      <td>Prod002</td>\n",
       "      <td>Cus003</td>\n",
       "      <td>Mark003</td>\n",
       "      <td>2018-04-11</td>\n",
       "      <td>1</td>\n",
       "      <td>583.00</td>\n",
       "      <td>INR</td>\n",
       "      <td>583.00</td>\n",
       "      <td>13</td>\n",
       "    </tr>\n",
       "    <tr>\n",
       "      <th>4</th>\n",
       "      <td>Prod002</td>\n",
       "      <td>Cus004</td>\n",
       "      <td>Mark003</td>\n",
       "      <td>2018-06-18</td>\n",
       "      <td>6</td>\n",
       "      <td>7176.00</td>\n",
       "      <td>INR</td>\n",
       "      <td>1196.00</td>\n",
       "      <td>15</td>\n",
       "    </tr>\n",
       "    <tr>\n",
       "      <th>5</th>\n",
       "      <td>Prod003</td>\n",
       "      <td>Cus005</td>\n",
       "      <td>Mark004</td>\n",
       "      <td>2017-11-20</td>\n",
       "      <td>59</td>\n",
       "      <td>37500.00</td>\n",
       "      <td>INR</td>\n",
       "      <td>635.59</td>\n",
       "      <td>13</td>\n",
       "    </tr>\n",
       "  </tbody>\n",
       "</table>\n",
       "</div>"
      ],
      "text/plain": [
       "  product_code customer_code market_code  order_date  sales_qty  sales_amount  \\\n",
       "0      Prod001        Cus001     Mark001  2017-10-10        100      41241.00   \n",
       "2      Prod002        Cus003     Mark003  2018-04-06          1        875.00   \n",
       "3      Prod002        Cus003     Mark003  2018-04-11          1        583.00   \n",
       "4      Prod002        Cus004     Mark003  2018-06-18          6       7176.00   \n",
       "5      Prod003        Cus005     Mark004  2017-11-20         59      37500.00   \n",
       "\n",
       "  currency  product_price  profit_percentage  \n",
       "0      INR         412.41                 11  \n",
       "2      INR         875.00                 13  \n",
       "3      INR         583.00                 13  \n",
       "4      INR        1196.00                 15  \n",
       "5      INR         635.59                 13  "
      ]
     },
     "execution_count": 32,
     "metadata": {},
     "output_type": "execute_result"
    }
   ],
   "source": [
    "transactions.head()"
   ]
  },
  {
   "cell_type": "code",
   "execution_count": 33,
   "metadata": {},
   "outputs": [
    {
     "data": {
      "text/plain": [
       "(148672, 9)"
      ]
     },
     "execution_count": 33,
     "metadata": {},
     "output_type": "execute_result"
    }
   ],
   "source": [
    "transactions.shape"
   ]
  },
  {
   "cell_type": "code",
   "execution_count": 34,
   "metadata": {},
   "outputs": [
    {
     "data": {
      "text/plain": [
       "0"
      ]
     },
     "execution_count": 34,
     "metadata": {},
     "output_type": "execute_result"
    }
   ],
   "source": [
    "transactions['profit_percentage'].isnull().sum()"
   ]
  },
  {
   "cell_type": "code",
   "execution_count": 35,
   "metadata": {},
   "outputs": [
    {
     "data": {
      "text/plain": [
       "product_code         0\n",
       "customer_code        0\n",
       "market_code          0\n",
       "order_date           0\n",
       "sales_qty            0\n",
       "sales_amount         0\n",
       "currency             0\n",
       "product_price        0\n",
       "profit_percentage    0\n",
       "dtype: int64"
      ]
     },
     "execution_count": 35,
     "metadata": {},
     "output_type": "execute_result"
    }
   ],
   "source": [
    "transactions.isnull().sum()"
   ]
  },
  {
   "cell_type": "code",
   "execution_count": 36,
   "metadata": {},
   "outputs": [],
   "source": [
    "transactions['original_price'] = (transactions['product_price'] - (transactions['product_price']*(transactions['profit_percentage'] / 100)))"
   ]
  },
  {
   "cell_type": "code",
   "execution_count": 37,
   "metadata": {},
   "outputs": [
    {
     "data": {
      "text/html": [
       "<div>\n",
       "<style scoped>\n",
       "    .dataframe tbody tr th:only-of-type {\n",
       "        vertical-align: middle;\n",
       "    }\n",
       "\n",
       "    .dataframe tbody tr th {\n",
       "        vertical-align: top;\n",
       "    }\n",
       "\n",
       "    .dataframe thead th {\n",
       "        text-align: right;\n",
       "    }\n",
       "</style>\n",
       "<table border=\"1\" class=\"dataframe\">\n",
       "  <thead>\n",
       "    <tr style=\"text-align: right;\">\n",
       "      <th></th>\n",
       "      <th>product_code</th>\n",
       "      <th>customer_code</th>\n",
       "      <th>market_code</th>\n",
       "      <th>order_date</th>\n",
       "      <th>sales_qty</th>\n",
       "      <th>sales_amount</th>\n",
       "      <th>currency</th>\n",
       "      <th>product_price</th>\n",
       "      <th>profit_percentage</th>\n",
       "      <th>original_price</th>\n",
       "    </tr>\n",
       "  </thead>\n",
       "  <tbody>\n",
       "    <tr>\n",
       "      <th>0</th>\n",
       "      <td>Prod001</td>\n",
       "      <td>Cus001</td>\n",
       "      <td>Mark001</td>\n",
       "      <td>2017-10-10</td>\n",
       "      <td>100</td>\n",
       "      <td>41241.00</td>\n",
       "      <td>INR</td>\n",
       "      <td>412.41</td>\n",
       "      <td>11</td>\n",
       "      <td>367.04</td>\n",
       "    </tr>\n",
       "    <tr>\n",
       "      <th>2</th>\n",
       "      <td>Prod002</td>\n",
       "      <td>Cus003</td>\n",
       "      <td>Mark003</td>\n",
       "      <td>2018-04-06</td>\n",
       "      <td>1</td>\n",
       "      <td>875.00</td>\n",
       "      <td>INR</td>\n",
       "      <td>875.00</td>\n",
       "      <td>13</td>\n",
       "      <td>761.25</td>\n",
       "    </tr>\n",
       "    <tr>\n",
       "      <th>3</th>\n",
       "      <td>Prod002</td>\n",
       "      <td>Cus003</td>\n",
       "      <td>Mark003</td>\n",
       "      <td>2018-04-11</td>\n",
       "      <td>1</td>\n",
       "      <td>583.00</td>\n",
       "      <td>INR</td>\n",
       "      <td>583.00</td>\n",
       "      <td>13</td>\n",
       "      <td>507.21</td>\n",
       "    </tr>\n",
       "    <tr>\n",
       "      <th>4</th>\n",
       "      <td>Prod002</td>\n",
       "      <td>Cus004</td>\n",
       "      <td>Mark003</td>\n",
       "      <td>2018-06-18</td>\n",
       "      <td>6</td>\n",
       "      <td>7176.00</td>\n",
       "      <td>INR</td>\n",
       "      <td>1196.00</td>\n",
       "      <td>15</td>\n",
       "      <td>1016.60</td>\n",
       "    </tr>\n",
       "  </tbody>\n",
       "</table>\n",
       "</div>"
      ],
      "text/plain": [
       "  product_code customer_code market_code  order_date  sales_qty  sales_amount  \\\n",
       "0      Prod001        Cus001     Mark001  2017-10-10        100      41241.00   \n",
       "2      Prod002        Cus003     Mark003  2018-04-06          1        875.00   \n",
       "3      Prod002        Cus003     Mark003  2018-04-11          1        583.00   \n",
       "4      Prod002        Cus004     Mark003  2018-06-18          6       7176.00   \n",
       "\n",
       "  currency  product_price  profit_percentage  original_price  \n",
       "0      INR         412.41                 11          367.04  \n",
       "2      INR         875.00                 13          761.25  \n",
       "3      INR         583.00                 13          507.21  \n",
       "4      INR        1196.00                 15         1016.60  "
      ]
     },
     "execution_count": 37,
     "metadata": {},
     "output_type": "execute_result"
    }
   ],
   "source": [
    "transactions.head(4)"
   ]
  },
  {
   "cell_type": "markdown",
   "metadata": {},
   "source": [
    "### Adding column profit"
   ]
  },
  {
   "cell_type": "code",
   "execution_count": 38,
   "metadata": {},
   "outputs": [],
   "source": [
    "transactions['profit'] = transactions['product_price']*(transactions['profit_percentage'] / 100)"
   ]
  },
  {
   "cell_type": "code",
   "execution_count": 39,
   "metadata": {},
   "outputs": [
    {
     "data": {
      "text/html": [
       "<div>\n",
       "<style scoped>\n",
       "    .dataframe tbody tr th:only-of-type {\n",
       "        vertical-align: middle;\n",
       "    }\n",
       "\n",
       "    .dataframe tbody tr th {\n",
       "        vertical-align: top;\n",
       "    }\n",
       "\n",
       "    .dataframe thead th {\n",
       "        text-align: right;\n",
       "    }\n",
       "</style>\n",
       "<table border=\"1\" class=\"dataframe\">\n",
       "  <thead>\n",
       "    <tr style=\"text-align: right;\">\n",
       "      <th></th>\n",
       "      <th>product_code</th>\n",
       "      <th>customer_code</th>\n",
       "      <th>market_code</th>\n",
       "      <th>order_date</th>\n",
       "      <th>sales_qty</th>\n",
       "      <th>sales_amount</th>\n",
       "      <th>currency</th>\n",
       "      <th>product_price</th>\n",
       "      <th>profit_percentage</th>\n",
       "      <th>original_price</th>\n",
       "      <th>profit</th>\n",
       "    </tr>\n",
       "  </thead>\n",
       "  <tbody>\n",
       "    <tr>\n",
       "      <th>0</th>\n",
       "      <td>Prod001</td>\n",
       "      <td>Cus001</td>\n",
       "      <td>Mark001</td>\n",
       "      <td>2017-10-10</td>\n",
       "      <td>100</td>\n",
       "      <td>41241.00</td>\n",
       "      <td>INR</td>\n",
       "      <td>412.41</td>\n",
       "      <td>11</td>\n",
       "      <td>367.04</td>\n",
       "      <td>45.37</td>\n",
       "    </tr>\n",
       "    <tr>\n",
       "      <th>2</th>\n",
       "      <td>Prod002</td>\n",
       "      <td>Cus003</td>\n",
       "      <td>Mark003</td>\n",
       "      <td>2018-04-06</td>\n",
       "      <td>1</td>\n",
       "      <td>875.00</td>\n",
       "      <td>INR</td>\n",
       "      <td>875.00</td>\n",
       "      <td>13</td>\n",
       "      <td>761.25</td>\n",
       "      <td>113.75</td>\n",
       "    </tr>\n",
       "    <tr>\n",
       "      <th>3</th>\n",
       "      <td>Prod002</td>\n",
       "      <td>Cus003</td>\n",
       "      <td>Mark003</td>\n",
       "      <td>2018-04-11</td>\n",
       "      <td>1</td>\n",
       "      <td>583.00</td>\n",
       "      <td>INR</td>\n",
       "      <td>583.00</td>\n",
       "      <td>13</td>\n",
       "      <td>507.21</td>\n",
       "      <td>75.79</td>\n",
       "    </tr>\n",
       "    <tr>\n",
       "      <th>4</th>\n",
       "      <td>Prod002</td>\n",
       "      <td>Cus004</td>\n",
       "      <td>Mark003</td>\n",
       "      <td>2018-06-18</td>\n",
       "      <td>6</td>\n",
       "      <td>7176.00</td>\n",
       "      <td>INR</td>\n",
       "      <td>1196.00</td>\n",
       "      <td>15</td>\n",
       "      <td>1016.60</td>\n",
       "      <td>179.40</td>\n",
       "    </tr>\n",
       "  </tbody>\n",
       "</table>\n",
       "</div>"
      ],
      "text/plain": [
       "  product_code customer_code market_code  order_date  sales_qty  sales_amount  \\\n",
       "0      Prod001        Cus001     Mark001  2017-10-10        100      41241.00   \n",
       "2      Prod002        Cus003     Mark003  2018-04-06          1        875.00   \n",
       "3      Prod002        Cus003     Mark003  2018-04-11          1        583.00   \n",
       "4      Prod002        Cus004     Mark003  2018-06-18          6       7176.00   \n",
       "\n",
       "  currency  product_price  profit_percentage  original_price  profit  \n",
       "0      INR         412.41                 11          367.04   45.37  \n",
       "2      INR         875.00                 13          761.25  113.75  \n",
       "3      INR         583.00                 13          507.21   75.79  \n",
       "4      INR        1196.00                 15         1016.60  179.40  "
      ]
     },
     "execution_count": 39,
     "metadata": {},
     "output_type": "execute_result"
    }
   ],
   "source": [
    "transactions.head(4)"
   ]
  },
  {
   "cell_type": "markdown",
   "metadata": {},
   "source": [
    "### Adding Column total_profit"
   ]
  },
  {
   "cell_type": "code",
   "execution_count": 40,
   "metadata": {},
   "outputs": [],
   "source": [
    "transactions['total_profit'] = (transactions['sales_qty']) * (transactions['product_price'] * (transactions['profit_percentage'] / 100))"
   ]
  },
  {
   "cell_type": "code",
   "execution_count": 41,
   "metadata": {},
   "outputs": [
    {
     "data": {
      "text/html": [
       "<div>\n",
       "<style scoped>\n",
       "    .dataframe tbody tr th:only-of-type {\n",
       "        vertical-align: middle;\n",
       "    }\n",
       "\n",
       "    .dataframe tbody tr th {\n",
       "        vertical-align: top;\n",
       "    }\n",
       "\n",
       "    .dataframe thead th {\n",
       "        text-align: right;\n",
       "    }\n",
       "</style>\n",
       "<table border=\"1\" class=\"dataframe\">\n",
       "  <thead>\n",
       "    <tr style=\"text-align: right;\">\n",
       "      <th></th>\n",
       "      <th>product_code</th>\n",
       "      <th>customer_code</th>\n",
       "      <th>market_code</th>\n",
       "      <th>order_date</th>\n",
       "      <th>sales_qty</th>\n",
       "      <th>sales_amount</th>\n",
       "      <th>currency</th>\n",
       "      <th>product_price</th>\n",
       "      <th>profit_percentage</th>\n",
       "      <th>original_price</th>\n",
       "      <th>profit</th>\n",
       "      <th>total_profit</th>\n",
       "    </tr>\n",
       "  </thead>\n",
       "  <tbody>\n",
       "    <tr>\n",
       "      <th>0</th>\n",
       "      <td>Prod001</td>\n",
       "      <td>Cus001</td>\n",
       "      <td>Mark001</td>\n",
       "      <td>2017-10-10</td>\n",
       "      <td>100</td>\n",
       "      <td>41241.00</td>\n",
       "      <td>INR</td>\n",
       "      <td>412.41</td>\n",
       "      <td>11</td>\n",
       "      <td>367.04</td>\n",
       "      <td>45.37</td>\n",
       "      <td>4536.51</td>\n",
       "    </tr>\n",
       "    <tr>\n",
       "      <th>2</th>\n",
       "      <td>Prod002</td>\n",
       "      <td>Cus003</td>\n",
       "      <td>Mark003</td>\n",
       "      <td>2018-04-06</td>\n",
       "      <td>1</td>\n",
       "      <td>875.00</td>\n",
       "      <td>INR</td>\n",
       "      <td>875.00</td>\n",
       "      <td>13</td>\n",
       "      <td>761.25</td>\n",
       "      <td>113.75</td>\n",
       "      <td>113.75</td>\n",
       "    </tr>\n",
       "    <tr>\n",
       "      <th>3</th>\n",
       "      <td>Prod002</td>\n",
       "      <td>Cus003</td>\n",
       "      <td>Mark003</td>\n",
       "      <td>2018-04-11</td>\n",
       "      <td>1</td>\n",
       "      <td>583.00</td>\n",
       "      <td>INR</td>\n",
       "      <td>583.00</td>\n",
       "      <td>13</td>\n",
       "      <td>507.21</td>\n",
       "      <td>75.79</td>\n",
       "      <td>75.79</td>\n",
       "    </tr>\n",
       "    <tr>\n",
       "      <th>4</th>\n",
       "      <td>Prod002</td>\n",
       "      <td>Cus004</td>\n",
       "      <td>Mark003</td>\n",
       "      <td>2018-06-18</td>\n",
       "      <td>6</td>\n",
       "      <td>7176.00</td>\n",
       "      <td>INR</td>\n",
       "      <td>1196.00</td>\n",
       "      <td>15</td>\n",
       "      <td>1016.60</td>\n",
       "      <td>179.40</td>\n",
       "      <td>1076.40</td>\n",
       "    </tr>\n",
       "  </tbody>\n",
       "</table>\n",
       "</div>"
      ],
      "text/plain": [
       "  product_code customer_code market_code  order_date  sales_qty  sales_amount  \\\n",
       "0      Prod001        Cus001     Mark001  2017-10-10        100      41241.00   \n",
       "2      Prod002        Cus003     Mark003  2018-04-06          1        875.00   \n",
       "3      Prod002        Cus003     Mark003  2018-04-11          1        583.00   \n",
       "4      Prod002        Cus004     Mark003  2018-06-18          6       7176.00   \n",
       "\n",
       "  currency  product_price  profit_percentage  original_price  profit  \\\n",
       "0      INR         412.41                 11          367.04   45.37   \n",
       "2      INR         875.00                 13          761.25  113.75   \n",
       "3      INR         583.00                 13          507.21   75.79   \n",
       "4      INR        1196.00                 15         1016.60  179.40   \n",
       "\n",
       "   total_profit  \n",
       "0       4536.51  \n",
       "2        113.75  \n",
       "3         75.79  \n",
       "4       1076.40  "
      ]
     },
     "execution_count": 41,
     "metadata": {},
     "output_type": "execute_result"
    }
   ],
   "source": [
    "transactions.head(4)"
   ]
  },
  {
   "cell_type": "markdown",
   "metadata": {},
   "source": [
    "### Adding column total_cost"
   ]
  },
  {
   "cell_type": "code",
   "execution_count": 42,
   "metadata": {},
   "outputs": [],
   "source": [
    "transactions['total_cost'] = (transactions['sales_amount']) - (transactions['total_profit'])"
   ]
  },
  {
   "cell_type": "code",
   "execution_count": 43,
   "metadata": {},
   "outputs": [
    {
     "data": {
      "text/html": [
       "<div>\n",
       "<style scoped>\n",
       "    .dataframe tbody tr th:only-of-type {\n",
       "        vertical-align: middle;\n",
       "    }\n",
       "\n",
       "    .dataframe tbody tr th {\n",
       "        vertical-align: top;\n",
       "    }\n",
       "\n",
       "    .dataframe thead th {\n",
       "        text-align: right;\n",
       "    }\n",
       "</style>\n",
       "<table border=\"1\" class=\"dataframe\">\n",
       "  <thead>\n",
       "    <tr style=\"text-align: right;\">\n",
       "      <th></th>\n",
       "      <th>product_code</th>\n",
       "      <th>customer_code</th>\n",
       "      <th>market_code</th>\n",
       "      <th>order_date</th>\n",
       "      <th>sales_qty</th>\n",
       "      <th>sales_amount</th>\n",
       "      <th>currency</th>\n",
       "      <th>product_price</th>\n",
       "      <th>profit_percentage</th>\n",
       "      <th>original_price</th>\n",
       "      <th>profit</th>\n",
       "      <th>total_profit</th>\n",
       "      <th>total_cost</th>\n",
       "    </tr>\n",
       "  </thead>\n",
       "  <tbody>\n",
       "    <tr>\n",
       "      <th>0</th>\n",
       "      <td>Prod001</td>\n",
       "      <td>Cus001</td>\n",
       "      <td>Mark001</td>\n",
       "      <td>2017-10-10</td>\n",
       "      <td>100</td>\n",
       "      <td>41241.00</td>\n",
       "      <td>INR</td>\n",
       "      <td>412.41</td>\n",
       "      <td>11</td>\n",
       "      <td>367.04</td>\n",
       "      <td>45.37</td>\n",
       "      <td>4536.51</td>\n",
       "      <td>36704.49</td>\n",
       "    </tr>\n",
       "    <tr>\n",
       "      <th>2</th>\n",
       "      <td>Prod002</td>\n",
       "      <td>Cus003</td>\n",
       "      <td>Mark003</td>\n",
       "      <td>2018-04-06</td>\n",
       "      <td>1</td>\n",
       "      <td>875.00</td>\n",
       "      <td>INR</td>\n",
       "      <td>875.00</td>\n",
       "      <td>13</td>\n",
       "      <td>761.25</td>\n",
       "      <td>113.75</td>\n",
       "      <td>113.75</td>\n",
       "      <td>761.25</td>\n",
       "    </tr>\n",
       "    <tr>\n",
       "      <th>3</th>\n",
       "      <td>Prod002</td>\n",
       "      <td>Cus003</td>\n",
       "      <td>Mark003</td>\n",
       "      <td>2018-04-11</td>\n",
       "      <td>1</td>\n",
       "      <td>583.00</td>\n",
       "      <td>INR</td>\n",
       "      <td>583.00</td>\n",
       "      <td>13</td>\n",
       "      <td>507.21</td>\n",
       "      <td>75.79</td>\n",
       "      <td>75.79</td>\n",
       "      <td>507.21</td>\n",
       "    </tr>\n",
       "    <tr>\n",
       "      <th>4</th>\n",
       "      <td>Prod002</td>\n",
       "      <td>Cus004</td>\n",
       "      <td>Mark003</td>\n",
       "      <td>2018-06-18</td>\n",
       "      <td>6</td>\n",
       "      <td>7176.00</td>\n",
       "      <td>INR</td>\n",
       "      <td>1196.00</td>\n",
       "      <td>15</td>\n",
       "      <td>1016.60</td>\n",
       "      <td>179.40</td>\n",
       "      <td>1076.40</td>\n",
       "      <td>6099.60</td>\n",
       "    </tr>\n",
       "  </tbody>\n",
       "</table>\n",
       "</div>"
      ],
      "text/plain": [
       "  product_code customer_code market_code  order_date  sales_qty  sales_amount  \\\n",
       "0      Prod001        Cus001     Mark001  2017-10-10        100      41241.00   \n",
       "2      Prod002        Cus003     Mark003  2018-04-06          1        875.00   \n",
       "3      Prod002        Cus003     Mark003  2018-04-11          1        583.00   \n",
       "4      Prod002        Cus004     Mark003  2018-06-18          6       7176.00   \n",
       "\n",
       "  currency  product_price  profit_percentage  original_price  profit  \\\n",
       "0      INR         412.41                 11          367.04   45.37   \n",
       "2      INR         875.00                 13          761.25  113.75   \n",
       "3      INR         583.00                 13          507.21   75.79   \n",
       "4      INR        1196.00                 15         1016.60  179.40   \n",
       "\n",
       "   total_profit  total_cost  \n",
       "0       4536.51    36704.49  \n",
       "2        113.75      761.25  \n",
       "3         75.79      507.21  \n",
       "4       1076.40     6099.60  "
      ]
     },
     "execution_count": 43,
     "metadata": {},
     "output_type": "execute_result"
    }
   ],
   "source": [
    "transactions.head(4)"
   ]
  },
  {
   "cell_type": "markdown",
   "metadata": {},
   "source": [
    "### verifying values"
   ]
  },
  {
   "cell_type": "code",
   "execution_count": 44,
   "metadata": {},
   "outputs": [
    {
     "data": {
      "text/plain": [
       "986676768.0"
      ]
     },
     "execution_count": 44,
     "metadata": {},
     "output_type": "execute_result"
    }
   ],
   "source": [
    "transactions['sales_amount'].sum()"
   ]
  },
  {
   "cell_type": "code",
   "execution_count": 45,
   "metadata": {},
   "outputs": [
    {
     "data": {
      "text/plain": [
       "849375728.9"
      ]
     },
     "execution_count": 45,
     "metadata": {},
     "output_type": "execute_result"
    }
   ],
   "source": [
    "transactions['total_cost'].sum()"
   ]
  },
  {
   "cell_type": "code",
   "execution_count": 46,
   "metadata": {},
   "outputs": [
    {
     "data": {
      "text/plain": [
       "137301039.1"
      ]
     },
     "execution_count": 46,
     "metadata": {},
     "output_type": "execute_result"
    }
   ],
   "source": [
    "transactions['total_profit'].sum()"
   ]
  },
  {
   "cell_type": "code",
   "execution_count": 47,
   "metadata": {},
   "outputs": [
    {
     "data": {
      "text/plain": [
       "0.0"
      ]
     },
     "execution_count": 47,
     "metadata": {},
     "output_type": "execute_result"
    }
   ],
   "source": [
    "(transactions['total_cost'].sum() + transactions['total_profit'].sum()) - transactions['sales_amount'].sum()"
   ]
  },
  {
   "cell_type": "code",
   "execution_count": 48,
   "metadata": {},
   "outputs": [
    {
     "data": {
      "text/plain": [
       "(148672, 13)"
      ]
     },
     "execution_count": 48,
     "metadata": {},
     "output_type": "execute_result"
    }
   ],
   "source": [
    "transactions.shape"
   ]
  },
  {
   "cell_type": "markdown",
   "metadata": {},
   "source": [
    "# Products"
   ]
  },
  {
   "cell_type": "code",
   "execution_count": 49,
   "metadata": {},
   "outputs": [
    {
     "data": {
      "text/html": [
       "<div>\n",
       "<style scoped>\n",
       "    .dataframe tbody tr th:only-of-type {\n",
       "        vertical-align: middle;\n",
       "    }\n",
       "\n",
       "    .dataframe tbody tr th {\n",
       "        vertical-align: top;\n",
       "    }\n",
       "\n",
       "    .dataframe thead th {\n",
       "        text-align: right;\n",
       "    }\n",
       "</style>\n",
       "<table border=\"1\" class=\"dataframe\">\n",
       "  <thead>\n",
       "    <tr style=\"text-align: right;\">\n",
       "      <th></th>\n",
       "      <th>product_code</th>\n",
       "      <th>product_type</th>\n",
       "    </tr>\n",
       "  </thead>\n",
       "  <tbody>\n",
       "    <tr>\n",
       "      <th>0</th>\n",
       "      <td>Prod001</td>\n",
       "      <td>Own Brand</td>\n",
       "    </tr>\n",
       "    <tr>\n",
       "      <th>1</th>\n",
       "      <td>Prod002</td>\n",
       "      <td>Own Brand</td>\n",
       "    </tr>\n",
       "    <tr>\n",
       "      <th>2</th>\n",
       "      <td>Prod003</td>\n",
       "      <td>Own Brand</td>\n",
       "    </tr>\n",
       "  </tbody>\n",
       "</table>\n",
       "</div>"
      ],
      "text/plain": [
       "  product_code product_type\n",
       "0      Prod001    Own Brand\n",
       "1      Prod002    Own Brand\n",
       "2      Prod003    Own Brand"
      ]
     },
     "execution_count": 49,
     "metadata": {},
     "output_type": "execute_result"
    }
   ],
   "source": [
    "products.head(3)"
   ]
  },
  {
   "cell_type": "code",
   "execution_count": 50,
   "metadata": {},
   "outputs": [
    {
     "data": {
      "text/plain": [
       "array(['Own Brand', 'Distribution'], dtype=object)"
      ]
     },
     "execution_count": 50,
     "metadata": {},
     "output_type": "execute_result"
    }
   ],
   "source": [
    "products['product_type'].unique()"
   ]
  },
  {
   "cell_type": "code",
   "execution_count": 51,
   "metadata": {},
   "outputs": [
    {
     "data": {
      "text/plain": [
       "279"
      ]
     },
     "execution_count": 51,
     "metadata": {},
     "output_type": "execute_result"
    }
   ],
   "source": [
    "products['product_code'].nunique()"
   ]
  },
  {
   "cell_type": "code",
   "execution_count": 52,
   "metadata": {},
   "outputs": [
    {
     "data": {
      "text/plain": [
       "191"
      ]
     },
     "execution_count": 52,
     "metadata": {},
     "output_type": "execute_result"
    }
   ],
   "source": [
    "len(products[products['product_type'] == 'Own Brand'])"
   ]
  },
  {
   "cell_type": "code",
   "execution_count": 53,
   "metadata": {},
   "outputs": [
    {
     "data": {
      "text/plain": [
       "88"
      ]
     },
     "execution_count": 53,
     "metadata": {},
     "output_type": "execute_result"
    }
   ],
   "source": [
    "len(products[products['product_type'] == 'Distribution'])"
   ]
  },
  {
   "cell_type": "code",
   "execution_count": 54,
   "metadata": {},
   "outputs": [
    {
     "data": {
      "text/plain": [
       "338"
      ]
     },
     "execution_count": 54,
     "metadata": {},
     "output_type": "execute_result"
    }
   ],
   "source": [
    "transactions['product_code'].nunique()"
   ]
  },
  {
   "cell_type": "code",
   "execution_count": 55,
   "metadata": {},
   "outputs": [],
   "source": [
    "prod_code1 = pd.Series(products['product_code'].unique())"
   ]
  },
  {
   "cell_type": "code",
   "execution_count": 56,
   "metadata": {},
   "outputs": [],
   "source": [
    "prod_code2 = pd.Series(transactions['product_code'].unique())"
   ]
  },
  {
   "cell_type": "code",
   "execution_count": 57,
   "metadata": {},
   "outputs": [
    {
     "data": {
      "text/plain": [
       "274    Prod275\n",
       "275    Prod276\n",
       "276    Prod277\n",
       "277    Prod278\n",
       "278    Prod279\n",
       "dtype: object"
      ]
     },
     "execution_count": 57,
     "metadata": {},
     "output_type": "execute_result"
    }
   ],
   "source": [
    "prod_code1.tail()"
   ]
  },
  {
   "cell_type": "code",
   "execution_count": 58,
   "metadata": {},
   "outputs": [
    {
     "data": {
      "text/plain": [
       "333    Prod335\n",
       "334    Prod336\n",
       "335    Prod337\n",
       "336    Prod338\n",
       "337    Prod339\n",
       "dtype: object"
      ]
     },
     "execution_count": 58,
     "metadata": {},
     "output_type": "execute_result"
    }
   ],
   "source": [
    "prod_code2.tail()"
   ]
  },
  {
   "cell_type": "code",
   "execution_count": 59,
   "metadata": {},
   "outputs": [],
   "source": [
    "def new_func():\n",
    "    products = []  # Initialize products list\n",
    "    for x in range(279, 338, 1):\n",
    "        products.append({'product_code': prod_code2[x], 'product_type': 'Own Brand'})  # Append to products list\n",
    "\n",
    "new_func()\n"
   ]
  },
  {
   "cell_type": "code",
   "execution_count": 60,
   "metadata": {},
   "outputs": [
    {
     "data": {
      "text/plain": [
       "279"
      ]
     },
     "execution_count": 60,
     "metadata": {},
     "output_type": "execute_result"
    }
   ],
   "source": [
    "products['product_code'].nunique()"
   ]
  },
  {
   "cell_type": "code",
   "execution_count": 61,
   "metadata": {},
   "outputs": [
    {
     "data": {
      "text/html": [
       "<div>\n",
       "<style scoped>\n",
       "    .dataframe tbody tr th:only-of-type {\n",
       "        vertical-align: middle;\n",
       "    }\n",
       "\n",
       "    .dataframe tbody tr th {\n",
       "        vertical-align: top;\n",
       "    }\n",
       "\n",
       "    .dataframe thead th {\n",
       "        text-align: right;\n",
       "    }\n",
       "</style>\n",
       "<table border=\"1\" class=\"dataframe\">\n",
       "  <thead>\n",
       "    <tr style=\"text-align: right;\">\n",
       "      <th></th>\n",
       "      <th>product_code</th>\n",
       "      <th>product_type</th>\n",
       "    </tr>\n",
       "  </thead>\n",
       "  <tbody>\n",
       "    <tr>\n",
       "      <th>274</th>\n",
       "      <td>Prod275</td>\n",
       "      <td>Own Brand</td>\n",
       "    </tr>\n",
       "    <tr>\n",
       "      <th>275</th>\n",
       "      <td>Prod276</td>\n",
       "      <td>Own Brand</td>\n",
       "    </tr>\n",
       "    <tr>\n",
       "      <th>276</th>\n",
       "      <td>Prod277</td>\n",
       "      <td>Own Brand</td>\n",
       "    </tr>\n",
       "    <tr>\n",
       "      <th>277</th>\n",
       "      <td>Prod278</td>\n",
       "      <td>Distribution</td>\n",
       "    </tr>\n",
       "    <tr>\n",
       "      <th>278</th>\n",
       "      <td>Prod279</td>\n",
       "      <td>Distribution</td>\n",
       "    </tr>\n",
       "  </tbody>\n",
       "</table>\n",
       "</div>"
      ],
      "text/plain": [
       "    product_code  product_type\n",
       "274      Prod275     Own Brand\n",
       "275      Prod276     Own Brand\n",
       "276      Prod277     Own Brand\n",
       "277      Prod278  Distribution\n",
       "278      Prod279  Distribution"
      ]
     },
     "execution_count": 61,
     "metadata": {},
     "output_type": "execute_result"
    }
   ],
   "source": [
    "products.tail()"
   ]
  },
  {
   "cell_type": "code",
   "execution_count": 62,
   "metadata": {},
   "outputs": [
    {
     "data": {
      "text/plain": [
       "(148672, 13)"
      ]
     },
     "execution_count": 62,
     "metadata": {},
     "output_type": "execute_result"
    }
   ],
   "source": [
    "transactions.shape"
   ]
  },
  {
   "cell_type": "code",
   "execution_count": 63,
   "metadata": {},
   "outputs": [],
   "source": [
    "transactions2 = pd.merge(transactions, products, how='inner', on='product_code')"
   ]
  },
  {
   "cell_type": "code",
   "execution_count": 64,
   "metadata": {},
   "outputs": [
    {
     "data": {
      "text/html": [
       "<div>\n",
       "<style scoped>\n",
       "    .dataframe tbody tr th:only-of-type {\n",
       "        vertical-align: middle;\n",
       "    }\n",
       "\n",
       "    .dataframe tbody tr th {\n",
       "        vertical-align: top;\n",
       "    }\n",
       "\n",
       "    .dataframe thead th {\n",
       "        text-align: right;\n",
       "    }\n",
       "</style>\n",
       "<table border=\"1\" class=\"dataframe\">\n",
       "  <thead>\n",
       "    <tr style=\"text-align: right;\">\n",
       "      <th></th>\n",
       "      <th>product_code</th>\n",
       "      <th>customer_code</th>\n",
       "      <th>market_code</th>\n",
       "      <th>order_date</th>\n",
       "      <th>sales_qty</th>\n",
       "      <th>sales_amount</th>\n",
       "      <th>currency</th>\n",
       "      <th>product_price</th>\n",
       "      <th>profit_percentage</th>\n",
       "      <th>original_price</th>\n",
       "      <th>profit</th>\n",
       "      <th>total_profit</th>\n",
       "      <th>total_cost</th>\n",
       "      <th>product_type</th>\n",
       "    </tr>\n",
       "  </thead>\n",
       "  <tbody>\n",
       "    <tr>\n",
       "      <th>78282</th>\n",
       "      <td>Prod264</td>\n",
       "      <td>Cus006</td>\n",
       "      <td>Mark004</td>\n",
       "      <td>2020-05-20</td>\n",
       "      <td>1</td>\n",
       "      <td>74.00</td>\n",
       "      <td>INR</td>\n",
       "      <td>74.00</td>\n",
       "      <td>8</td>\n",
       "      <td>68.08</td>\n",
       "      <td>5.92</td>\n",
       "      <td>5.92</td>\n",
       "      <td>68.08</td>\n",
       "      <td>Distribution</td>\n",
       "    </tr>\n",
       "    <tr>\n",
       "      <th>11263</th>\n",
       "      <td>Prod056</td>\n",
       "      <td>Cus025</td>\n",
       "      <td>Mark011</td>\n",
       "      <td>2019-04-26</td>\n",
       "      <td>43</td>\n",
       "      <td>11255.00</td>\n",
       "      <td>INR</td>\n",
       "      <td>261.74</td>\n",
       "      <td>11</td>\n",
       "      <td>232.95</td>\n",
       "      <td>28.79</td>\n",
       "      <td>1238.05</td>\n",
       "      <td>10016.95</td>\n",
       "      <td>Own Brand</td>\n",
       "    </tr>\n",
       "    <tr>\n",
       "      <th>19858</th>\n",
       "      <td>Prod065</td>\n",
       "      <td>Cus020</td>\n",
       "      <td>Mark011</td>\n",
       "      <td>2019-11-11</td>\n",
       "      <td>1</td>\n",
       "      <td>190.00</td>\n",
       "      <td>INR</td>\n",
       "      <td>190.00</td>\n",
       "      <td>11</td>\n",
       "      <td>169.10</td>\n",
       "      <td>20.90</td>\n",
       "      <td>20.90</td>\n",
       "      <td>169.10</td>\n",
       "      <td>Own Brand</td>\n",
       "    </tr>\n",
       "  </tbody>\n",
       "</table>\n",
       "</div>"
      ],
      "text/plain": [
       "      product_code customer_code market_code  order_date  sales_qty  \\\n",
       "78282      Prod264        Cus006     Mark004  2020-05-20          1   \n",
       "11263      Prod056        Cus025     Mark011  2019-04-26         43   \n",
       "19858      Prod065        Cus020     Mark011  2019-11-11          1   \n",
       "\n",
       "       sales_amount currency  product_price  profit_percentage  \\\n",
       "78282         74.00      INR          74.00                  8   \n",
       "11263      11255.00      INR         261.74                 11   \n",
       "19858        190.00      INR         190.00                 11   \n",
       "\n",
       "       original_price  profit  total_profit  total_cost  product_type  \n",
       "78282           68.08    5.92          5.92       68.08  Distribution  \n",
       "11263          232.95   28.79       1238.05    10016.95     Own Brand  \n",
       "19858          169.10   20.90         20.90      169.10     Own Brand  "
      ]
     },
     "execution_count": 64,
     "metadata": {},
     "output_type": "execute_result"
    }
   ],
   "source": [
    "transactions2.sample(3)"
   ]
  },
  {
   "cell_type": "code",
   "execution_count": 65,
   "metadata": {},
   "outputs": [
    {
     "data": {
      "text/plain": [
       "(94073, 14)"
      ]
     },
     "execution_count": 65,
     "metadata": {},
     "output_type": "execute_result"
    }
   ],
   "source": [
    "transactions2.shape"
   ]
  },
  {
   "cell_type": "markdown",
   "metadata": {},
   "source": [
    "# Customers"
   ]
  },
  {
   "cell_type": "code",
   "execution_count": 66,
   "metadata": {},
   "outputs": [
    {
     "data": {
      "text/html": [
       "<div>\n",
       "<style scoped>\n",
       "    .dataframe tbody tr th:only-of-type {\n",
       "        vertical-align: middle;\n",
       "    }\n",
       "\n",
       "    .dataframe tbody tr th {\n",
       "        vertical-align: top;\n",
       "    }\n",
       "\n",
       "    .dataframe thead th {\n",
       "        text-align: right;\n",
       "    }\n",
       "</style>\n",
       "<table border=\"1\" class=\"dataframe\">\n",
       "  <thead>\n",
       "    <tr style=\"text-align: right;\">\n",
       "      <th></th>\n",
       "      <th>customer_code</th>\n",
       "      <th>custmer_name</th>\n",
       "      <th>customer_type</th>\n",
       "    </tr>\n",
       "  </thead>\n",
       "  <tbody>\n",
       "    <tr>\n",
       "      <th>0</th>\n",
       "      <td>Cus001</td>\n",
       "      <td>Surge Stores</td>\n",
       "      <td>Brick &amp; Mortar</td>\n",
       "    </tr>\n",
       "    <tr>\n",
       "      <th>1</th>\n",
       "      <td>Cus002</td>\n",
       "      <td>Nomad Stores</td>\n",
       "      <td>Brick &amp; Mortar</td>\n",
       "    </tr>\n",
       "    <tr>\n",
       "      <th>2</th>\n",
       "      <td>Cus003</td>\n",
       "      <td>Excel Stores</td>\n",
       "      <td>Brick &amp; Mortar</td>\n",
       "    </tr>\n",
       "  </tbody>\n",
       "</table>\n",
       "</div>"
      ],
      "text/plain": [
       "  customer_code  custmer_name   customer_type\n",
       "0        Cus001  Surge Stores  Brick & Mortar\n",
       "1        Cus002  Nomad Stores  Brick & Mortar\n",
       "2        Cus003  Excel Stores  Brick & Mortar"
      ]
     },
     "execution_count": 66,
     "metadata": {},
     "output_type": "execute_result"
    }
   ],
   "source": [
    "customers.head(3)"
   ]
  },
  {
   "cell_type": "code",
   "execution_count": 67,
   "metadata": {},
   "outputs": [
    {
     "data": {
      "text/plain": [
       "array(['Brick & Mortar', 'E-Commerce'], dtype=object)"
      ]
     },
     "execution_count": 67,
     "metadata": {},
     "output_type": "execute_result"
    }
   ],
   "source": [
    "customers['customer_type'].unique()"
   ]
  },
  {
   "cell_type": "code",
   "execution_count": 68,
   "metadata": {},
   "outputs": [
    {
     "data": {
      "text/plain": [
       "2"
      ]
     },
     "execution_count": 68,
     "metadata": {},
     "output_type": "execute_result"
    }
   ],
   "source": [
    "customers['customer_type'].nunique()"
   ]
  },
  {
   "cell_type": "code",
   "execution_count": 69,
   "metadata": {},
   "outputs": [
    {
     "data": {
      "text/plain": [
       "38"
      ]
     },
     "execution_count": 69,
     "metadata": {},
     "output_type": "execute_result"
    }
   ],
   "source": [
    "customers['customer_code'].nunique()"
   ]
  },
  {
   "cell_type": "code",
   "execution_count": 70,
   "metadata": {},
   "outputs": [
    {
     "data": {
      "text/plain": [
       "38"
      ]
     },
     "execution_count": 70,
     "metadata": {},
     "output_type": "execute_result"
    }
   ],
   "source": [
    "transactions2['customer_code'].nunique()"
   ]
  },
  {
   "cell_type": "code",
   "execution_count": 71,
   "metadata": {},
   "outputs": [
    {
     "data": {
      "text/plain": [
       "(94073, 14)"
      ]
     },
     "execution_count": 71,
     "metadata": {},
     "output_type": "execute_result"
    }
   ],
   "source": [
    "transactions2.shape"
   ]
  },
  {
   "cell_type": "code",
   "execution_count": 72,
   "metadata": {},
   "outputs": [],
   "source": [
    "transactions3 = pd.merge(transactions2, customers, how='inner', on='customer_code')"
   ]
  },
  {
   "cell_type": "code",
   "execution_count": 73,
   "metadata": {},
   "outputs": [
    {
     "data": {
      "text/html": [
       "<div>\n",
       "<style scoped>\n",
       "    .dataframe tbody tr th:only-of-type {\n",
       "        vertical-align: middle;\n",
       "    }\n",
       "\n",
       "    .dataframe tbody tr th {\n",
       "        vertical-align: top;\n",
       "    }\n",
       "\n",
       "    .dataframe thead th {\n",
       "        text-align: right;\n",
       "    }\n",
       "</style>\n",
       "<table border=\"1\" class=\"dataframe\">\n",
       "  <thead>\n",
       "    <tr style=\"text-align: right;\">\n",
       "      <th></th>\n",
       "      <th>product_code</th>\n",
       "      <th>customer_code</th>\n",
       "      <th>market_code</th>\n",
       "      <th>order_date</th>\n",
       "      <th>sales_qty</th>\n",
       "      <th>sales_amount</th>\n",
       "      <th>currency</th>\n",
       "      <th>product_price</th>\n",
       "      <th>profit_percentage</th>\n",
       "      <th>original_price</th>\n",
       "      <th>profit</th>\n",
       "      <th>total_profit</th>\n",
       "      <th>total_cost</th>\n",
       "      <th>product_type</th>\n",
       "      <th>custmer_name</th>\n",
       "      <th>customer_type</th>\n",
       "    </tr>\n",
       "  </thead>\n",
       "  <tbody>\n",
       "    <tr>\n",
       "      <th>59002</th>\n",
       "      <td>Prod114</td>\n",
       "      <td>Cus020</td>\n",
       "      <td>Mark004</td>\n",
       "      <td>2019-03-06</td>\n",
       "      <td>1</td>\n",
       "      <td>102.00</td>\n",
       "      <td>INR</td>\n",
       "      <td>102.00</td>\n",
       "      <td>11</td>\n",
       "      <td>90.78</td>\n",
       "      <td>11.22</td>\n",
       "      <td>11.22</td>\n",
       "      <td>90.78</td>\n",
       "      <td>Distribution</td>\n",
       "      <td>Nixon</td>\n",
       "      <td>E-Commerce</td>\n",
       "    </tr>\n",
       "    <tr>\n",
       "      <th>40442</th>\n",
       "      <td>Prod226</td>\n",
       "      <td>Cus010</td>\n",
       "      <td>Mark003</td>\n",
       "      <td>2019-03-18</td>\n",
       "      <td>1</td>\n",
       "      <td>417.00</td>\n",
       "      <td>INR</td>\n",
       "      <td>417.00</td>\n",
       "      <td>11</td>\n",
       "      <td>371.13</td>\n",
       "      <td>45.87</td>\n",
       "      <td>45.87</td>\n",
       "      <td>371.13</td>\n",
       "      <td>Own Brand</td>\n",
       "      <td>Atlas Stores</td>\n",
       "      <td>Brick &amp; Mortar</td>\n",
       "    </tr>\n",
       "    <tr>\n",
       "      <th>87934</th>\n",
       "      <td>Prod043</td>\n",
       "      <td>Cus037</td>\n",
       "      <td>Mark007</td>\n",
       "      <td>2019-01-29</td>\n",
       "      <td>1</td>\n",
       "      <td>444.00</td>\n",
       "      <td>INR</td>\n",
       "      <td>444.00</td>\n",
       "      <td>11</td>\n",
       "      <td>395.16</td>\n",
       "      <td>48.84</td>\n",
       "      <td>48.84</td>\n",
       "      <td>395.16</td>\n",
       "      <td>Own Brand</td>\n",
       "      <td>Propel</td>\n",
       "      <td>E-Commerce</td>\n",
       "    </tr>\n",
       "  </tbody>\n",
       "</table>\n",
       "</div>"
      ],
      "text/plain": [
       "      product_code customer_code market_code  order_date  sales_qty  \\\n",
       "59002      Prod114        Cus020     Mark004  2019-03-06          1   \n",
       "40442      Prod226        Cus010     Mark003  2019-03-18          1   \n",
       "87934      Prod043        Cus037     Mark007  2019-01-29          1   \n",
       "\n",
       "       sales_amount currency  product_price  profit_percentage  \\\n",
       "59002        102.00      INR         102.00                 11   \n",
       "40442        417.00      INR         417.00                 11   \n",
       "87934        444.00      INR         444.00                 11   \n",
       "\n",
       "       original_price  profit  total_profit  total_cost  product_type  \\\n",
       "59002           90.78   11.22         11.22       90.78  Distribution   \n",
       "40442          371.13   45.87         45.87      371.13     Own Brand   \n",
       "87934          395.16   48.84         48.84      395.16     Own Brand   \n",
       "\n",
       "       custmer_name   customer_type  \n",
       "59002         Nixon      E-Commerce  \n",
       "40442  Atlas Stores  Brick & Mortar  \n",
       "87934        Propel      E-Commerce  "
      ]
     },
     "execution_count": 73,
     "metadata": {},
     "output_type": "execute_result"
    }
   ],
   "source": [
    "transactions3.sample(3)"
   ]
  },
  {
   "cell_type": "code",
   "execution_count": 74,
   "metadata": {},
   "outputs": [
    {
     "data": {
      "text/plain": [
       "(94073, 16)"
      ]
     },
     "execution_count": 74,
     "metadata": {},
     "output_type": "execute_result"
    }
   ],
   "source": [
    "transactions3.shape"
   ]
  },
  {
   "cell_type": "markdown",
   "metadata": {},
   "source": [
    "# Markets"
   ]
  },
  {
   "cell_type": "code",
   "execution_count": 75,
   "metadata": {},
   "outputs": [
    {
     "data": {
      "text/plain": [
       "Index(['markets_code', 'markets_name', 'zone'], dtype='object')"
      ]
     },
     "execution_count": 75,
     "metadata": {},
     "output_type": "execute_result"
    }
   ],
   "source": [
    "markets.columns"
   ]
  },
  {
   "cell_type": "code",
   "execution_count": 76,
   "metadata": {},
   "outputs": [],
   "source": [
    "markets = markets.rename(columns={\"markets_code\": \"market_code\", \"markets_name\": \"market_name\"})"
   ]
  },
  {
   "cell_type": "code",
   "execution_count": 77,
   "metadata": {},
   "outputs": [
    {
     "data": {
      "text/html": [
       "<div>\n",
       "<style scoped>\n",
       "    .dataframe tbody tr th:only-of-type {\n",
       "        vertical-align: middle;\n",
       "    }\n",
       "\n",
       "    .dataframe tbody tr th {\n",
       "        vertical-align: top;\n",
       "    }\n",
       "\n",
       "    .dataframe thead th {\n",
       "        text-align: right;\n",
       "    }\n",
       "</style>\n",
       "<table border=\"1\" class=\"dataframe\">\n",
       "  <thead>\n",
       "    <tr style=\"text-align: right;\">\n",
       "      <th></th>\n",
       "      <th>market_code</th>\n",
       "      <th>market_name</th>\n",
       "      <th>zone</th>\n",
       "    </tr>\n",
       "  </thead>\n",
       "  <tbody>\n",
       "    <tr>\n",
       "      <th>0</th>\n",
       "      <td>Mark001</td>\n",
       "      <td>Chennai</td>\n",
       "      <td>South</td>\n",
       "    </tr>\n",
       "    <tr>\n",
       "      <th>1</th>\n",
       "      <td>Mark002</td>\n",
       "      <td>Mumbai</td>\n",
       "      <td>Central</td>\n",
       "    </tr>\n",
       "    <tr>\n",
       "      <th>2</th>\n",
       "      <td>Mark003</td>\n",
       "      <td>Ahmedabad</td>\n",
       "      <td>North</td>\n",
       "    </tr>\n",
       "  </tbody>\n",
       "</table>\n",
       "</div>"
      ],
      "text/plain": [
       "  market_code market_name     zone\n",
       "0     Mark001     Chennai    South\n",
       "1     Mark002      Mumbai  Central\n",
       "2     Mark003   Ahmedabad    North"
      ]
     },
     "execution_count": 77,
     "metadata": {},
     "output_type": "execute_result"
    }
   ],
   "source": [
    "markets.head(3)"
   ]
  },
  {
   "cell_type": "code",
   "execution_count": 78,
   "metadata": {},
   "outputs": [
    {
     "data": {
      "text/plain": [
       "array(['Chennai', 'Mumbai', 'Ahmedabad', 'Delhi NCR', 'Kanpur',\n",
       "       'Bengaluru', 'Bhopal', 'Lucknow', 'Patna', 'Kochi', 'Nagpur',\n",
       "       'Surat', 'Hyderabad', 'Bhubaneshwar'], dtype=object)"
      ]
     },
     "execution_count": 78,
     "metadata": {},
     "output_type": "execute_result"
    }
   ],
   "source": [
    "markets['market_name'].unique()"
   ]
  },
  {
   "cell_type": "code",
   "execution_count": 79,
   "metadata": {},
   "outputs": [
    {
     "data": {
      "text/plain": [
       "14"
      ]
     },
     "execution_count": 79,
     "metadata": {},
     "output_type": "execute_result"
    }
   ],
   "source": [
    "markets['market_name'].nunique()"
   ]
  },
  {
   "cell_type": "code",
   "execution_count": 80,
   "metadata": {},
   "outputs": [
    {
     "data": {
      "text/plain": [
       "array(['South', 'Central', 'North'], dtype=object)"
      ]
     },
     "execution_count": 80,
     "metadata": {},
     "output_type": "execute_result"
    }
   ],
   "source": [
    "markets['zone'].unique()"
   ]
  },
  {
   "cell_type": "code",
   "execution_count": 81,
   "metadata": {},
   "outputs": [
    {
     "data": {
      "text/plain": [
       "3"
      ]
     },
     "execution_count": 81,
     "metadata": {},
     "output_type": "execute_result"
    }
   ],
   "source": [
    "markets['zone'].nunique()"
   ]
  },
  {
   "cell_type": "code",
   "execution_count": 82,
   "metadata": {},
   "outputs": [
    {
     "data": {
      "text/plain": [
       "15"
      ]
     },
     "execution_count": 82,
     "metadata": {},
     "output_type": "execute_result"
    }
   ],
   "source": [
    "markets['market_code'].nunique()"
   ]
  },
  {
   "cell_type": "code",
   "execution_count": 83,
   "metadata": {},
   "outputs": [
    {
     "data": {
      "text/plain": [
       "15"
      ]
     },
     "execution_count": 83,
     "metadata": {},
     "output_type": "execute_result"
    }
   ],
   "source": [
    "transactions3['market_code'].nunique()"
   ]
  },
  {
   "cell_type": "code",
   "execution_count": 84,
   "metadata": {},
   "outputs": [
    {
     "data": {
      "text/plain": [
       "(94073, 16)"
      ]
     },
     "execution_count": 84,
     "metadata": {},
     "output_type": "execute_result"
    }
   ],
   "source": [
    "transactions3.shape"
   ]
  },
  {
   "cell_type": "code",
   "execution_count": 85,
   "metadata": {},
   "outputs": [],
   "source": [
    "transactions4 = pd.merge(transactions3, markets, how='inner', on='market_code')"
   ]
  },
  {
   "cell_type": "code",
   "execution_count": 86,
   "metadata": {},
   "outputs": [
    {
     "data": {
      "text/html": [
       "<div>\n",
       "<style scoped>\n",
       "    .dataframe tbody tr th:only-of-type {\n",
       "        vertical-align: middle;\n",
       "    }\n",
       "\n",
       "    .dataframe tbody tr th {\n",
       "        vertical-align: top;\n",
       "    }\n",
       "\n",
       "    .dataframe thead th {\n",
       "        text-align: right;\n",
       "    }\n",
       "</style>\n",
       "<table border=\"1\" class=\"dataframe\">\n",
       "  <thead>\n",
       "    <tr style=\"text-align: right;\">\n",
       "      <th></th>\n",
       "      <th>product_code</th>\n",
       "      <th>customer_code</th>\n",
       "      <th>market_code</th>\n",
       "      <th>order_date</th>\n",
       "      <th>sales_qty</th>\n",
       "      <th>sales_amount</th>\n",
       "      <th>currency</th>\n",
       "      <th>product_price</th>\n",
       "      <th>profit_percentage</th>\n",
       "      <th>original_price</th>\n",
       "      <th>profit</th>\n",
       "      <th>total_profit</th>\n",
       "      <th>total_cost</th>\n",
       "      <th>product_type</th>\n",
       "      <th>custmer_name</th>\n",
       "      <th>customer_type</th>\n",
       "      <th>market_name</th>\n",
       "      <th>zone</th>\n",
       "    </tr>\n",
       "  </thead>\n",
       "  <tbody>\n",
       "    <tr>\n",
       "      <th>0</th>\n",
       "      <td>Prod001</td>\n",
       "      <td>Cus001</td>\n",
       "      <td>Mark001</td>\n",
       "      <td>2017-10-10</td>\n",
       "      <td>100</td>\n",
       "      <td>41241.00</td>\n",
       "      <td>INR</td>\n",
       "      <td>412.41</td>\n",
       "      <td>11</td>\n",
       "      <td>367.04</td>\n",
       "      <td>45.37</td>\n",
       "      <td>4536.51</td>\n",
       "      <td>36704.49</td>\n",
       "      <td>Own Brand</td>\n",
       "      <td>Surge Stores</td>\n",
       "      <td>Brick &amp; Mortar</td>\n",
       "      <td>Chennai</td>\n",
       "      <td>South</td>\n",
       "    </tr>\n",
       "    <tr>\n",
       "      <th>1</th>\n",
       "      <td>Prod001</td>\n",
       "      <td>Cus001</td>\n",
       "      <td>Mark001</td>\n",
       "      <td>2017-10-10</td>\n",
       "      <td>100</td>\n",
       "      <td>41241.00</td>\n",
       "      <td>INR</td>\n",
       "      <td>412.41</td>\n",
       "      <td>11</td>\n",
       "      <td>367.04</td>\n",
       "      <td>45.37</td>\n",
       "      <td>4536.51</td>\n",
       "      <td>36704.49</td>\n",
       "      <td>Own Brand</td>\n",
       "      <td>Surge Stores</td>\n",
       "      <td>Brick &amp; Mortar</td>\n",
       "      <td>Chennai</td>\n",
       "      <td>South</td>\n",
       "    </tr>\n",
       "    <tr>\n",
       "      <th>2</th>\n",
       "      <td>Prod013</td>\n",
       "      <td>Cus001</td>\n",
       "      <td>Mark001</td>\n",
       "      <td>2017-10-10</td>\n",
       "      <td>240</td>\n",
       "      <td>143560.00</td>\n",
       "      <td>INR</td>\n",
       "      <td>598.17</td>\n",
       "      <td>13</td>\n",
       "      <td>520.40</td>\n",
       "      <td>77.76</td>\n",
       "      <td>18662.80</td>\n",
       "      <td>124897.20</td>\n",
       "      <td>Own Brand</td>\n",
       "      <td>Surge Stores</td>\n",
       "      <td>Brick &amp; Mortar</td>\n",
       "      <td>Chennai</td>\n",
       "      <td>South</td>\n",
       "    </tr>\n",
       "  </tbody>\n",
       "</table>\n",
       "</div>"
      ],
      "text/plain": [
       "  product_code customer_code market_code  order_date  sales_qty  sales_amount  \\\n",
       "0      Prod001        Cus001     Mark001  2017-10-10        100      41241.00   \n",
       "1      Prod001        Cus001     Mark001  2017-10-10        100      41241.00   \n",
       "2      Prod013        Cus001     Mark001  2017-10-10        240     143560.00   \n",
       "\n",
       "  currency  product_price  profit_percentage  original_price  profit  \\\n",
       "0      INR         412.41                 11          367.04   45.37   \n",
       "1      INR         412.41                 11          367.04   45.37   \n",
       "2      INR         598.17                 13          520.40   77.76   \n",
       "\n",
       "   total_profit  total_cost product_type  custmer_name   customer_type  \\\n",
       "0       4536.51    36704.49    Own Brand  Surge Stores  Brick & Mortar   \n",
       "1       4536.51    36704.49    Own Brand  Surge Stores  Brick & Mortar   \n",
       "2      18662.80   124897.20    Own Brand  Surge Stores  Brick & Mortar   \n",
       "\n",
       "  market_name   zone  \n",
       "0     Chennai  South  \n",
       "1     Chennai  South  \n",
       "2     Chennai  South  "
      ]
     },
     "execution_count": 86,
     "metadata": {},
     "output_type": "execute_result"
    }
   ],
   "source": [
    "transactions4.head(3)"
   ]
  },
  {
   "cell_type": "code",
   "execution_count": 87,
   "metadata": {},
   "outputs": [
    {
     "data": {
      "text/plain": [
       "(94073, 18)"
      ]
     },
     "execution_count": 87,
     "metadata": {},
     "output_type": "execute_result"
    }
   ],
   "source": [
    "transactions4.shape"
   ]
  },
  {
   "cell_type": "markdown",
   "metadata": {},
   "source": [
    "# Date"
   ]
  },
  {
   "cell_type": "code",
   "execution_count": 88,
   "metadata": {},
   "outputs": [
    {
     "data": {
      "text/plain": [
       "Index(['date', 'cy_date', 'year', 'month_name', 'date_yy_mmm'], dtype='object')"
      ]
     },
     "execution_count": 88,
     "metadata": {},
     "output_type": "execute_result"
    }
   ],
   "source": [
    "date.columns"
   ]
  },
  {
   "cell_type": "code",
   "execution_count": 89,
   "metadata": {},
   "outputs": [],
   "source": [
    "date = date.rename(columns={\"date\": \"order_date\"})"
   ]
  },
  {
   "cell_type": "code",
   "execution_count": 90,
   "metadata": {},
   "outputs": [
    {
     "data": {
      "text/html": [
       "<div>\n",
       "<style scoped>\n",
       "    .dataframe tbody tr th:only-of-type {\n",
       "        vertical-align: middle;\n",
       "    }\n",
       "\n",
       "    .dataframe tbody tr th {\n",
       "        vertical-align: top;\n",
       "    }\n",
       "\n",
       "    .dataframe thead th {\n",
       "        text-align: right;\n",
       "    }\n",
       "</style>\n",
       "<table border=\"1\" class=\"dataframe\">\n",
       "  <thead>\n",
       "    <tr style=\"text-align: right;\">\n",
       "      <th></th>\n",
       "      <th>order_date</th>\n",
       "      <th>cy_date</th>\n",
       "      <th>year</th>\n",
       "      <th>month_name</th>\n",
       "      <th>date_yy_mmm</th>\n",
       "    </tr>\n",
       "  </thead>\n",
       "  <tbody>\n",
       "    <tr>\n",
       "      <th>0</th>\n",
       "      <td>2017-06-01</td>\n",
       "      <td>2017-06-01</td>\n",
       "      <td>2017</td>\n",
       "      <td>June</td>\n",
       "      <td>17-Jun</td>\n",
       "    </tr>\n",
       "    <tr>\n",
       "      <th>1</th>\n",
       "      <td>2017-06-02</td>\n",
       "      <td>2017-06-01</td>\n",
       "      <td>2017</td>\n",
       "      <td>June</td>\n",
       "      <td>17-Jun</td>\n",
       "    </tr>\n",
       "    <tr>\n",
       "      <th>2</th>\n",
       "      <td>2017-06-03</td>\n",
       "      <td>2017-06-01</td>\n",
       "      <td>2017</td>\n",
       "      <td>June</td>\n",
       "      <td>17-Jun</td>\n",
       "    </tr>\n",
       "  </tbody>\n",
       "</table>\n",
       "</div>"
      ],
      "text/plain": [
       "   order_date     cy_date  year month_name date_yy_mmm\n",
       "0  2017-06-01  2017-06-01  2017       June      17-Jun\n",
       "1  2017-06-02  2017-06-01  2017       June      17-Jun\n",
       "2  2017-06-03  2017-06-01  2017       June      17-Jun"
      ]
     },
     "execution_count": 90,
     "metadata": {},
     "output_type": "execute_result"
    }
   ],
   "source": [
    "date.head(3)"
   ]
  },
  {
   "cell_type": "code",
   "execution_count": 91,
   "metadata": {},
   "outputs": [
    {
     "data": {
      "text/plain": [
       "1126"
      ]
     },
     "execution_count": 91,
     "metadata": {},
     "output_type": "execute_result"
    }
   ],
   "source": [
    "date['order_date'].nunique()"
   ]
  },
  {
   "cell_type": "code",
   "execution_count": 92,
   "metadata": {},
   "outputs": [
    {
     "data": {
      "text/plain": [
       "801"
      ]
     },
     "execution_count": 92,
     "metadata": {},
     "output_type": "execute_result"
    }
   ],
   "source": [
    "transactions4['order_date'].nunique()"
   ]
  },
  {
   "cell_type": "code",
   "execution_count": 93,
   "metadata": {},
   "outputs": [
    {
     "data": {
      "text/plain": [
       "(94073, 18)"
      ]
     },
     "execution_count": 93,
     "metadata": {},
     "output_type": "execute_result"
    }
   ],
   "source": [
    "transactions4.shape"
   ]
  },
  {
   "cell_type": "code",
   "execution_count": 94,
   "metadata": {},
   "outputs": [],
   "source": [
    "transactions5 = pd.merge(transactions4, date, how='inner', on='order_date')"
   ]
  },
  {
   "cell_type": "code",
   "execution_count": 95,
   "metadata": {},
   "outputs": [
    {
     "data": {
      "text/html": [
       "<div>\n",
       "<style scoped>\n",
       "    .dataframe tbody tr th:only-of-type {\n",
       "        vertical-align: middle;\n",
       "    }\n",
       "\n",
       "    .dataframe tbody tr th {\n",
       "        vertical-align: top;\n",
       "    }\n",
       "\n",
       "    .dataframe thead th {\n",
       "        text-align: right;\n",
       "    }\n",
       "</style>\n",
       "<table border=\"1\" class=\"dataframe\">\n",
       "  <thead>\n",
       "    <tr style=\"text-align: right;\">\n",
       "      <th></th>\n",
       "      <th>product_code</th>\n",
       "      <th>customer_code</th>\n",
       "      <th>market_code</th>\n",
       "      <th>order_date</th>\n",
       "      <th>sales_qty</th>\n",
       "      <th>sales_amount</th>\n",
       "      <th>currency</th>\n",
       "      <th>product_price</th>\n",
       "      <th>profit_percentage</th>\n",
       "      <th>original_price</th>\n",
       "      <th>...</th>\n",
       "      <th>total_cost</th>\n",
       "      <th>product_type</th>\n",
       "      <th>custmer_name</th>\n",
       "      <th>customer_type</th>\n",
       "      <th>market_name</th>\n",
       "      <th>zone</th>\n",
       "      <th>cy_date</th>\n",
       "      <th>year</th>\n",
       "      <th>month_name</th>\n",
       "      <th>date_yy_mmm</th>\n",
       "    </tr>\n",
       "  </thead>\n",
       "  <tbody>\n",
       "    <tr>\n",
       "      <th>0</th>\n",
       "      <td>Prod001</td>\n",
       "      <td>Cus001</td>\n",
       "      <td>Mark001</td>\n",
       "      <td>2017-10-10</td>\n",
       "      <td>100</td>\n",
       "      <td>41241.00</td>\n",
       "      <td>INR</td>\n",
       "      <td>412.41</td>\n",
       "      <td>11</td>\n",
       "      <td>367.04</td>\n",
       "      <td>...</td>\n",
       "      <td>36704.49</td>\n",
       "      <td>Own Brand</td>\n",
       "      <td>Surge Stores</td>\n",
       "      <td>Brick &amp; Mortar</td>\n",
       "      <td>Chennai</td>\n",
       "      <td>South</td>\n",
       "      <td>2017-10-01</td>\n",
       "      <td>2017</td>\n",
       "      <td>October</td>\n",
       "      <td>17-Oct</td>\n",
       "    </tr>\n",
       "    <tr>\n",
       "      <th>1</th>\n",
       "      <td>Prod001</td>\n",
       "      <td>Cus001</td>\n",
       "      <td>Mark001</td>\n",
       "      <td>2017-10-10</td>\n",
       "      <td>100</td>\n",
       "      <td>41241.00</td>\n",
       "      <td>INR</td>\n",
       "      <td>412.41</td>\n",
       "      <td>11</td>\n",
       "      <td>367.04</td>\n",
       "      <td>...</td>\n",
       "      <td>36704.49</td>\n",
       "      <td>Own Brand</td>\n",
       "      <td>Surge Stores</td>\n",
       "      <td>Brick &amp; Mortar</td>\n",
       "      <td>Chennai</td>\n",
       "      <td>South</td>\n",
       "      <td>2017-10-01</td>\n",
       "      <td>2017</td>\n",
       "      <td>October</td>\n",
       "      <td>17-Oct</td>\n",
       "    </tr>\n",
       "    <tr>\n",
       "      <th>2</th>\n",
       "      <td>Prod013</td>\n",
       "      <td>Cus001</td>\n",
       "      <td>Mark001</td>\n",
       "      <td>2017-10-10</td>\n",
       "      <td>240</td>\n",
       "      <td>143560.00</td>\n",
       "      <td>INR</td>\n",
       "      <td>598.17</td>\n",
       "      <td>13</td>\n",
       "      <td>520.40</td>\n",
       "      <td>...</td>\n",
       "      <td>124897.20</td>\n",
       "      <td>Own Brand</td>\n",
       "      <td>Surge Stores</td>\n",
       "      <td>Brick &amp; Mortar</td>\n",
       "      <td>Chennai</td>\n",
       "      <td>South</td>\n",
       "      <td>2017-10-01</td>\n",
       "      <td>2017</td>\n",
       "      <td>October</td>\n",
       "      <td>17-Oct</td>\n",
       "    </tr>\n",
       "  </tbody>\n",
       "</table>\n",
       "<p>3 rows × 22 columns</p>\n",
       "</div>"
      ],
      "text/plain": [
       "  product_code customer_code market_code  order_date  sales_qty  sales_amount  \\\n",
       "0      Prod001        Cus001     Mark001  2017-10-10        100      41241.00   \n",
       "1      Prod001        Cus001     Mark001  2017-10-10        100      41241.00   \n",
       "2      Prod013        Cus001     Mark001  2017-10-10        240     143560.00   \n",
       "\n",
       "  currency  product_price  profit_percentage  original_price  ...  total_cost  \\\n",
       "0      INR         412.41                 11          367.04  ...    36704.49   \n",
       "1      INR         412.41                 11          367.04  ...    36704.49   \n",
       "2      INR         598.17                 13          520.40  ...   124897.20   \n",
       "\n",
       "   product_type  custmer_name   customer_type market_name   zone     cy_date  \\\n",
       "0     Own Brand  Surge Stores  Brick & Mortar     Chennai  South  2017-10-01   \n",
       "1     Own Brand  Surge Stores  Brick & Mortar     Chennai  South  2017-10-01   \n",
       "2     Own Brand  Surge Stores  Brick & Mortar     Chennai  South  2017-10-01   \n",
       "\n",
       "   year month_name  date_yy_mmm  \n",
       "0  2017    October       17-Oct  \n",
       "1  2017    October       17-Oct  \n",
       "2  2017    October       17-Oct  \n",
       "\n",
       "[3 rows x 22 columns]"
      ]
     },
     "execution_count": 95,
     "metadata": {},
     "output_type": "execute_result"
    }
   ],
   "source": [
    "transactions5.head(3)"
   ]
  },
  {
   "cell_type": "code",
   "execution_count": 96,
   "metadata": {},
   "outputs": [
    {
     "data": {
      "text/plain": [
       "(94073, 22)"
      ]
     },
     "execution_count": 96,
     "metadata": {},
     "output_type": "execute_result"
    }
   ],
   "source": [
    "transactions5.shape"
   ]
  },
  {
   "cell_type": "markdown",
   "metadata": {},
   "source": [
    "# Save the file for Power BI"
   ]
  },
  {
   "cell_type": "code",
   "execution_count": 97,
   "metadata": {},
   "outputs": [],
   "source": [
    "transactions5.to_csv('transactions_all.csv', index=False)"
   ]
  },
  {
   "cell_type": "code",
   "execution_count": 98,
   "metadata": {},
   "outputs": [
    {
     "data": {
      "text/plain": [
       "Index(['product_code', 'customer_code', 'market_code', 'order_date',\n",
       "       'sales_qty', 'sales_amount', 'currency', 'product_price',\n",
       "       'profit_percentage', 'original_price', 'profit', 'total_profit',\n",
       "       'total_cost', 'product_type', 'custmer_name', 'customer_type',\n",
       "       'market_name', 'zone', 'cy_date', 'year', 'month_name', 'date_yy_mmm'],\n",
       "      dtype='object')"
      ]
     },
     "execution_count": 98,
     "metadata": {},
     "output_type": "execute_result"
    }
   ],
   "source": [
    "transactions5.columns"
   ]
  },
  {
   "cell_type": "code",
   "execution_count": 99,
   "metadata": {},
   "outputs": [
    {
     "data": {
      "text/plain": [
       "22"
      ]
     },
     "execution_count": 99,
     "metadata": {},
     "output_type": "execute_result"
    }
   ],
   "source": [
    "len(transactions5.columns)"
   ]
  },
  {
   "cell_type": "code",
   "execution_count": 100,
   "metadata": {},
   "outputs": [
    {
     "data": {
      "text/plain": [
       "product_code          object\n",
       "customer_code         object\n",
       "market_code           object\n",
       "order_date            object\n",
       "sales_qty              int64\n",
       "sales_amount         float64\n",
       "currency              object\n",
       "product_price        float64\n",
       "profit_percentage      int64\n",
       "original_price       float64\n",
       "profit               float64\n",
       "total_profit         float64\n",
       "total_cost           float64\n",
       "product_type          object\n",
       "custmer_name          object\n",
       "customer_type         object\n",
       "market_name           object\n",
       "zone                  object\n",
       "cy_date               object\n",
       "year                   int64\n",
       "month_name            object\n",
       "date_yy_mmm           object\n",
       "dtype: object"
      ]
     },
     "execution_count": 100,
     "metadata": {},
     "output_type": "execute_result"
    }
   ],
   "source": [
    "transactions5.dtypes"
   ]
  },
  {
   "cell_type": "markdown",
   "metadata": {},
   "source": [
    "# Load the Data"
   ]
  },
  {
   "cell_type": "code",
   "execution_count": 101,
   "metadata": {},
   "outputs": [],
   "source": [
    "df = pd.read_csv('./transactions_all.csv')"
   ]
  },
  {
   "cell_type": "code",
   "execution_count": 102,
   "metadata": {},
   "outputs": [
    {
     "data": {
      "text/plain": [
       "(94073, 22)"
      ]
     },
     "execution_count": 102,
     "metadata": {},
     "output_type": "execute_result"
    }
   ],
   "source": [
    "df.shape"
   ]
  },
  {
   "cell_type": "code",
   "execution_count": 103,
   "metadata": {},
   "outputs": [
    {
     "data": {
      "text/plain": [
       "517715529.0"
      ]
     },
     "execution_count": 103,
     "metadata": {},
     "output_type": "execute_result"
    }
   ],
   "source": [
    "df['sales_amount'].sum()"
   ]
  },
  {
   "cell_type": "code",
   "execution_count": 104,
   "metadata": {},
   "outputs": [
    {
     "data": {
      "text/plain": [
       "452453089.77"
      ]
     },
     "execution_count": 104,
     "metadata": {},
     "output_type": "execute_result"
    }
   ],
   "source": [
    "df['total_cost'].sum()"
   ]
  },
  {
   "cell_type": "code",
   "execution_count": 105,
   "metadata": {},
   "outputs": [
    {
     "data": {
      "text/plain": [
       "65262439.23000001"
      ]
     },
     "execution_count": 105,
     "metadata": {},
     "output_type": "execute_result"
    }
   ],
   "source": [
    "df['total_profit'].sum()"
   ]
  },
  {
   "cell_type": "code",
   "execution_count": 106,
   "metadata": {},
   "outputs": [
    {
     "data": {
      "text/plain": [
       "0.0"
      ]
     },
     "execution_count": 106,
     "metadata": {},
     "output_type": "execute_result"
    }
   ],
   "source": [
    "df['sales_amount'].sum() - (df['total_cost'].sum() + df['total_profit'].sum())"
   ]
  },
  {
   "cell_type": "markdown",
   "metadata": {},
   "source": [
    "# Data Visualization"
   ]
  },
  {
   "cell_type": "code",
   "execution_count": 107,
   "metadata": {},
   "outputs": [
    {
     "data": {
      "text/plain": [
       "<Axes: xlabel='year', ylabel='total_cost'>"
      ]
     },
     "execution_count": 107,
     "metadata": {},
     "output_type": "execute_result"
    },
    {
     "data": {
      "image/png": "[encoded data removed]",
      "text/plain": [
       "<Figure size 640x480 with 1 Axes>"
      ]
     },
     "metadata": {},
     "output_type": "display_data"
    }
   ],
   "source": [
    "# visualization use displot\n",
    "sns.lineplot(x='year', y='total_cost', color='red', data=df)"
   ]
  },
  {
   "cell_type": "code",
   "execution_count": 108,
   "metadata": {},
   "outputs": [
    {
     "data": {
      "text/plain": [
       "<seaborn.axisgrid.FacetGrid at 0x1f586622c90>"
      ]
     },
     "execution_count": 108,
     "metadata": {},
     "output_type": "execute_result"
    },
    {
     "data": {
      "image/png": "[encoded data removed]",
      "text/plain": [
       "<Figure size 1011.11x500 with 1 Axes>"
      ]
     },
     "metadata": {},
     "output_type": "display_data"
    }
   ],
   "source": [
    "sns.catplot(x = \"year\", data=df, aspect=2, kind=\"count\")"
   ]
  },
  {
   "cell_type": "code",
   "execution_count": 109,
   "metadata": {},
   "outputs": [
    {
     "name": "stderr",
     "output_type": "stream",
     "text": [
      "C:\\Users\\thing\\AppData\\Local\\Temp\\ipykernel_13088\\4291441671.py:5: FutureWarning: \n",
      "\n",
      "Passing `palette` without assigning `hue` is deprecated and will be removed in v0.14.0. Assign the `x` variable to `hue` and set `legend=False` for the same effect.\n",
      "\n",
      "  sns.barplot(x=df[\"product_type\"], y=df[\"total_profit\"], palette=\"Blues_d\")\n"
     ]
    },
    {
     "data": {
      "image/png": "[encoded data removed]",
      "text/plain": [
       "<Figure size 800x600 with 1 Axes>"
      ]
     },
     "metadata": {},
     "output_type": "display_data"
    }
   ],
   "source": [
    "# Set up figure size\n",
    "plt.figure(figsize=(8,6 ))\n",
    "\n",
    "# Create the boxplot\n",
    "sns.barplot(x=df[\"product_type\"], y=df[\"total_profit\"], palette=\"Blues_d\")\n",
    "\n",
    "# Labels and title\n",
    "plt.xlabel('Products')\n",
    "plt.ylabel('Profit')\n",
    "plt.title('Profit of Each Product')\n",
    "\n",
    "# Rotate x-axis labels if necessary\n",
    "plt.xticks(rotation=45)\n",
    "\n",
    "# Adjust layout and display plot\n",
    "plt.tight_layout()\n",
    "plt.show()"
   ]
  },
  {
   "cell_type": "code",
   "execution_count": 110,
   "metadata": {},
   "outputs": [
    {
     "data": {
      "image/png": "[encoded data removed]",
      "text/plain": [
       "<Figure size 500x500 with 1 Axes>"
      ]
     },
     "metadata": {},
     "output_type": "display_data"
    }
   ],
   "source": [
    "plt.figure(figsize=(5, 5))\n",
    "df.groupby('customer_type')['sales_amount'].sum().plot.pie(autopct='%1.1f%%')\n",
    "plt.title('Tỷ lệ doanh thu theo loại khách hàng')\n",
    "plt.ylabel('')\n",
    "plt.show()\n"
   ]
  },
  {
   "cell_type": "code",
   "execution_count": 111,
   "metadata": {},
   "outputs": [
    {
     "name": "stderr",
     "output_type": "stream",
     "text": [
      "C:\\Users\\thing\\AppData\\Local\\Temp\\ipykernel_13088\\174883418.py:2: FutureWarning: \n",
      "\n",
      "`shade` is now deprecated in favor of `fill`; setting `fill=True`.\n",
      "This will become an error in seaborn v0.14.0; please update your code.\n",
      "\n",
      "  sns.kdeplot(df['product_price'], shade=True)\n"
     ]
    },
    {
     "data": {
      "image/png": "[encoded data removed]",
      "text/plain": [
       "<Figure size 1000x600 with 1 Axes>"
      ]
     },
     "metadata": {},
     "output_type": "display_data"
    }
   ],
   "source": [
    "plt.figure(figsize=(10, 6))\n",
    "sns.kdeplot(df['product_price'], shade=True)\n",
    "plt.title('Phân phối giá sản phẩm')\n",
    "plt.xlabel('Giá sản phẩm')\n",
    "plt.ylabel('Mật độ')\n",
    "plt.show()\n"
   ]
  },
  {
   "cell_type": "code",
   "execution_count": 112,
   "metadata": {},
   "outputs": [
    {
     "data": {
      "image/png": "[encoded data removed]",
      "text/plain": [
       "<Figure size 500x300 with 1 Axes>"
      ]
     },
     "metadata": {},
     "output_type": "display_data"
    }
   ],
   "source": [
    "plt.figure(figsize=(5, 3))\n",
    "sns.boxplot(x='zone', y='total_profit', data=df)\n",
    "plt.title('Phân phối tổng lợi nhuận theo khu vực')\n",
    "plt.xlabel('Khu vực')\n",
    "plt.ylabel('Tổng lợi nhuận')\n",
    "plt.xticks(rotation=45)\n",
    "plt.show()\n"
   ]
  },
  {
   "cell_type": "code",
   "execution_count": 113,
   "metadata": {},
   "outputs": [
    {
     "data": {
      "image/png": "[encoded data removed]",
      "text/plain": [
       "<Figure size 1000x1000 with 20 Axes>"
      ]
     },
     "metadata": {},
     "output_type": "display_data"
    }
   ],
   "source": [
    "sns.pairplot(df[['sales_qty', 'sales_amount', 'product_price', 'profit']])\n",
    "plt.suptitle('Mối quan hệ giữa các biến số', y=1.02)\n",
    "plt.show()\n"
   ]
  },
  {
   "cell_type": "code",
   "execution_count": 114,
   "metadata": {},
   "outputs": [],
   "source": [
    "numeric_df = df.select_dtypes(include=['float64', 'int64'])\n",
    "correlation_matrix = numeric_df.corr()\n"
   ]
  },
  {
   "cell_type": "code",
   "execution_count": 115,
   "metadata": {},
   "outputs": [
    {
     "data": {
      "text/plain": [
       "<Axes: >"
      ]
     },
     "execution_count": 115,
     "metadata": {},
     "output_type": "execute_result"
    },
    {
     "data": {
      "image/png": "[encoded data removed]",
      "text/plain": [
       "<Figure size 640x480 with 2 Axes>"
      ]
     },
     "metadata": {},
     "output_type": "display_data"
    }
   ],
   "source": [
    "sns.heatmap(correlation_matrix)"
   ]
  },
  {
   "cell_type": "code",
   "execution_count": 116,
   "metadata": {},
   "outputs": [
    {
     "data": {
      "text/plain": [
       "<Axes: xlabel='total_cost', ylabel='sales_amount'>"
      ]
     },
     "execution_count": 116,
     "metadata": {},
     "output_type": "execute_result"
    },
    {
     "data": {
      "image/png": "[encoded data removed]",
      "text/plain": [
       "<Figure size 640x480 with 1 Axes>"
      ]
     },
     "metadata": {},
     "output_type": "display_data"
    }
   ],
   "source": [
    "# Phân tích các yếu tố ảnh hưởng đến doanh số bán hàng\n",
    "\n",
    "sns.scatterplot(x='total_cost', y='sales_amount', data=df)\n",
    "sns.scatterplot(x='total_profit', y='sales_amount', data=df)\n",
    "sns.scatterplot(x='sales_amount', y='total_cost', data=df)\n",
    "sns.scatterplot(x='sales_amount', y='total_profit', data=df)\n",
    "sns.scatterplot(x='sales_amount', y='profit_percentage', data=df)\n"
   ]
  },
  {
   "cell_type": "markdown",
   "metadata": {},
   "source": [
    "# Train model predict revenue from sales of goods\n"
   ]
  },
  {
   "cell_type": "code",
   "execution_count": 117,
   "metadata": {},
   "outputs": [
    {
     "name": "stderr",
     "output_type": "stream",
     "text": [
      "C:\\Users\\thing\\AppData\\Local\\Temp\\ipykernel_13088\\550082593.py:13: SettingWithCopyWarning: \n",
      "A value is trying to be set on a copy of a slice from a DataFrame.\n",
      "Try using .loc[row_indexer,col_indexer] = value instead\n",
      "\n",
      "See the caveats in the documentation: https://pandas.pydata.org/pandas-docs/stable/user_guide/indexing.html#returning-a-view-versus-a-copy\n",
      "  data['order_date'] = pd.to_datetime(data['order_date'])\n",
      "c:\\Users\\thing\\AppData\\Local\\Programs\\Python\\Python312\\Lib\\site-packages\\keras\\src\\layers\\rnn\\rnn.py:204: UserWarning: Do not pass an `input_shape`/`input_dim` argument to a layer. When using Sequential models, prefer using an `Input(shape)` object as the first layer in the model instead.\n",
      "  super().__init__(**kwargs)\n"
     ]
    },
    {
     "name": "stdout",
     "output_type": "stream",
     "text": [
      "Epoch 1/100\n",
      "2352/2352 - 25s - 10ms/step - loss: 2.3878e-04\n",
      "Epoch 2/100\n",
      "2352/2352 - 18s - 8ms/step - loss: 2.3749e-04\n",
      "Epoch 3/100\n",
      "2352/2352 - 17s - 7ms/step - loss: 2.3803e-04\n",
      "Epoch 4/100\n",
      "2352/2352 - 17s - 7ms/step - loss: 2.3825e-04\n",
      "Epoch 5/100\n",
      "2352/2352 - 21s - 9ms/step - loss: 2.3825e-04\n",
      "Epoch 6/100\n",
      "2352/2352 - 16s - 7ms/step - loss: 2.3714e-04\n",
      "Epoch 7/100\n",
      "2352/2352 - 17s - 7ms/step - loss: 2.3722e-04\n",
      "Epoch 8/100\n",
      "2352/2352 - 16s - 7ms/step - loss: 2.3685e-04\n",
      "Epoch 9/100\n",
      "2352/2352 - 17s - 7ms/step - loss: 2.3744e-04\n",
      "Epoch 10/100\n",
      "2352/2352 - 16s - 7ms/step - loss: 2.3722e-04\n",
      "Epoch 11/100\n",
      "2352/2352 - 21s - 9ms/step - loss: 2.3685e-04\n",
      "Epoch 12/100\n",
      "2352/2352 - 21s - 9ms/step - loss: 2.3674e-04\n",
      "Epoch 13/100\n",
      "2352/2352 - 17s - 7ms/step - loss: 2.3701e-04\n",
      "Epoch 14/100\n",
      "2352/2352 - 20s - 8ms/step - loss: 2.3664e-04\n",
      "Epoch 15/100\n",
      "2352/2352 - 16s - 7ms/step - loss: 2.3633e-04\n",
      "Epoch 16/100\n",
      "2352/2352 - 21s - 9ms/step - loss: 2.3636e-04\n",
      "Epoch 17/100\n",
      "2352/2352 - 21s - 9ms/step - loss: 2.3629e-04\n",
      "Epoch 18/100\n",
      "2352/2352 - 19s - 8ms/step - loss: 2.3607e-04\n",
      "Epoch 19/100\n",
      "2352/2352 - 16s - 7ms/step - loss: 2.3648e-04\n",
      "Epoch 20/100\n",
      "2352/2352 - 20s - 8ms/step - loss: 2.3607e-04\n",
      "Epoch 21/100\n",
      "2352/2352 - 23s - 10ms/step - loss: 2.3597e-04\n",
      "Epoch 22/100\n",
      "2352/2352 - 18s - 8ms/step - loss: 2.3630e-04\n",
      "Epoch 23/100\n",
      "2352/2352 - 16s - 7ms/step - loss: 2.3614e-04\n",
      "Epoch 24/100\n",
      "2352/2352 - 15s - 6ms/step - loss: 2.3573e-04\n",
      "Epoch 25/100\n",
      "2352/2352 - 17s - 7ms/step - loss: 2.3569e-04\n",
      "Epoch 26/100\n",
      "2352/2352 - 19s - 8ms/step - loss: 2.3599e-04\n",
      "Epoch 27/100\n",
      "2352/2352 - 21s - 9ms/step - loss: 2.3575e-04\n",
      "Epoch 28/100\n",
      "2352/2352 - 16s - 7ms/step - loss: 2.3619e-04\n",
      "Epoch 29/100\n",
      "2352/2352 - 17s - 7ms/step - loss: 2.3610e-04\n",
      "Epoch 30/100\n",
      "2352/2352 - 16s - 7ms/step - loss: 2.3588e-04\n",
      "Epoch 31/100\n",
      "2352/2352 - 22s - 9ms/step - loss: 2.3580e-04\n",
      "Epoch 32/100\n",
      "2352/2352 - 20s - 9ms/step - loss: 2.3579e-04\n",
      "Epoch 33/100\n",
      "2352/2352 - 17s - 7ms/step - loss: 2.3555e-04\n",
      "Epoch 34/100\n",
      "2352/2352 - 19s - 8ms/step - loss: 2.3603e-04\n",
      "Epoch 35/100\n",
      "2352/2352 - 22s - 9ms/step - loss: 2.3520e-04\n",
      "Epoch 36/100\n",
      "2352/2352 - 17s - 7ms/step - loss: 2.3594e-04\n",
      "Epoch 37/100\n",
      "2352/2352 - 20s - 8ms/step - loss: 2.3568e-04\n",
      "Epoch 38/100\n",
      "2352/2352 - 20s - 8ms/step - loss: 2.3598e-04\n",
      "Epoch 39/100\n",
      "2352/2352 - 16s - 7ms/step - loss: 2.3619e-04\n",
      "Epoch 40/100\n",
      "2352/2352 - 16s - 7ms/step - loss: 2.3557e-04\n",
      "Epoch 41/100\n",
      "2352/2352 - 24s - 10ms/step - loss: 2.3584e-04\n",
      "Epoch 42/100\n",
      "2352/2352 - 17s - 7ms/step - loss: 2.3559e-04\n",
      "Epoch 43/100\n",
      "2352/2352 - 16s - 7ms/step - loss: 2.3527e-04\n",
      "Epoch 44/100\n",
      "2352/2352 - 17s - 7ms/step - loss: 2.3600e-04\n",
      "Epoch 45/100\n",
      "2352/2352 - 19s - 8ms/step - loss: 2.3531e-04\n",
      "Epoch 46/100\n",
      "2352/2352 - 20s - 9ms/step - loss: 2.3529e-04\n",
      "Epoch 47/100\n",
      "2352/2352 - 15s - 7ms/step - loss: 2.3528e-04\n",
      "Epoch 48/100\n",
      "2352/2352 - 20s - 8ms/step - loss: 2.3506e-04\n",
      "Epoch 49/100\n",
      "2352/2352 - 15s - 6ms/step - loss: 2.3533e-04\n",
      "Epoch 50/100\n",
      "2352/2352 - 23s - 10ms/step - loss: 2.3500e-04\n",
      "Epoch 51/100\n",
      "2352/2352 - 20s - 8ms/step - loss: 2.3539e-04\n",
      "Epoch 52/100\n",
      "2352/2352 - 17s - 7ms/step - loss: 2.3472e-04\n",
      "Epoch 53/100\n",
      "2352/2352 - 20s - 8ms/step - loss: 2.3529e-04\n",
      "Epoch 54/100\n",
      "2352/2352 - 17s - 7ms/step - loss: 2.3517e-04\n",
      "Epoch 55/100\n",
      "2352/2352 - 25s - 11ms/step - loss: 2.3432e-04\n",
      "Epoch 56/100\n",
      "2352/2352 - 17s - 7ms/step - loss: 2.3530e-04\n",
      "Epoch 57/100\n",
      "2352/2352 - 16s - 7ms/step - loss: 2.3486e-04\n",
      "Epoch 58/100\n",
      "2352/2352 - 16s - 7ms/step - loss: 2.3438e-04\n",
      "Epoch 59/100\n",
      "2352/2352 - 23s - 10ms/step - loss: 2.3500e-04\n",
      "Epoch 60/100\n",
      "2352/2352 - 17s - 7ms/step - loss: 2.3347e-04\n",
      "Epoch 61/100\n",
      "2352/2352 - 19s - 8ms/step - loss: 2.3492e-04\n",
      "Epoch 62/100\n",
      "2352/2352 - 17s - 7ms/step - loss: 2.3431e-04\n",
      "Epoch 63/100\n",
      "2352/2352 - 15s - 7ms/step - loss: 2.3433e-04\n",
      "Epoch 64/100\n",
      "2352/2352 - 20s - 8ms/step - loss: 2.3475e-04\n",
      "Epoch 65/100\n",
      "2352/2352 - 22s - 9ms/step - loss: 2.3471e-04\n",
      "Epoch 66/100\n",
      "2352/2352 - 38s - 16ms/step - loss: 2.3408e-04\n",
      "Epoch 67/100\n",
      "2352/2352 - 16s - 7ms/step - loss: 2.3515e-04\n",
      "Epoch 68/100\n",
      "2352/2352 - 16s - 7ms/step - loss: 2.3427e-04\n",
      "Epoch 69/100\n",
      "2352/2352 - 21s - 9ms/step - loss: 2.3482e-04\n",
      "Epoch 70/100\n",
      "2352/2352 - 21s - 9ms/step - loss: 2.3433e-04\n",
      "Epoch 71/100\n",
      "2352/2352 - 21s - 9ms/step - loss: 2.3485e-04\n",
      "Epoch 72/100\n",
      "2352/2352 - 21s - 9ms/step - loss: 2.3389e-04\n",
      "Epoch 73/100\n",
      "2352/2352 - 38s - 16ms/step - loss: 2.3309e-04\n",
      "Epoch 74/100\n",
      "2352/2352 - 18s - 8ms/step - loss: 2.3401e-04\n",
      "Epoch 75/100\n",
      "2352/2352 - 17s - 7ms/step - loss: 2.3388e-04\n",
      "Epoch 76/100\n",
      "2352/2352 - 18s - 8ms/step - loss: 2.3372e-04\n",
      "Epoch 77/100\n",
      "2352/2352 - 18s - 8ms/step - loss: 2.3516e-04\n",
      "Epoch 78/100\n",
      "2352/2352 - 20s - 8ms/step - loss: 2.3452e-04\n",
      "Epoch 79/100\n",
      "2352/2352 - 18s - 8ms/step - loss: 2.3453e-04\n",
      "Epoch 80/100\n",
      "2352/2352 - 17s - 7ms/step - loss: 2.3319e-04\n",
      "Epoch 81/100\n",
      "2352/2352 - 18s - 8ms/step - loss: 2.3392e-04\n",
      "Epoch 82/100\n",
      "2352/2352 - 18s - 8ms/step - loss: 2.3395e-04\n",
      "Epoch 83/100\n",
      "2352/2352 - 18s - 8ms/step - loss: 2.3333e-04\n",
      "Epoch 84/100\n",
      "2352/2352 - 21s - 9ms/step - loss: 2.3413e-04\n",
      "Epoch 85/100\n",
      "2352/2352 - 42s - 18ms/step - loss: 2.3481e-04\n",
      "Epoch 86/100\n",
      "2352/2352 - 41s - 18ms/step - loss: 2.3401e-04\n",
      "Epoch 87/100\n",
      "2352/2352 - 42s - 18ms/step - loss: 2.3474e-04\n",
      "Epoch 88/100\n",
      "2352/2352 - 22s - 9ms/step - loss: 2.3355e-04\n",
      "Epoch 89/100\n",
      "2352/2352 - 21s - 9ms/step - loss: 2.3392e-04\n",
      "Epoch 90/100\n",
      "2352/2352 - 21s - 9ms/step - loss: 2.3383e-04\n",
      "Epoch 91/100\n",
      "2352/2352 - 21s - 9ms/step - loss: 2.3395e-04\n",
      "Epoch 92/100\n",
      "2352/2352 - 20s - 9ms/step - loss: 2.3218e-04\n",
      "Epoch 93/100\n",
      "2352/2352 - 21s - 9ms/step - loss: 2.3379e-04\n",
      "Epoch 94/100\n",
      "2352/2352 - 39s - 17ms/step - loss: 2.3376e-04\n",
      "Epoch 95/100\n",
      "2352/2352 - 25s - 10ms/step - loss: 2.3302e-04\n",
      "Epoch 96/100\n",
      "2352/2352 - 36s - 15ms/step - loss: 2.3270e-04\n",
      "Epoch 97/100\n",
      "2352/2352 - 20s - 8ms/step - loss: 2.3205e-04\n",
      "Epoch 98/100\n",
      "2352/2352 - 23s - 10ms/step - loss: 2.3247e-04\n",
      "Epoch 99/100\n",
      "2352/2352 - 24s - 10ms/step - loss: 2.3347e-04\n",
      "Epoch 100/100\n",
      "2352/2352 - 23s - 10ms/step - loss: 2.3222e-04\n",
      "\u001b[1m2352/2352\u001b[0m \u001b[32m━━━━━━━━━━━━━━━━━━━━\u001b[0m\u001b[37m\u001b[0m \u001b[1m12s\u001b[0m 5ms/step\n",
      "Train RMSE: 0.015221920741139981\n",
      "\u001b[1m588/588\u001b[0m \u001b[32m━━━━━━━━━━━━━━━━━━━━\u001b[0m\u001b[37m\u001b[0m \u001b[1m2s\u001b[0m 4ms/step\n",
      "Test RMSE: 0.01542811668744975\n"
     ]
    }
   ],
   "source": [
    "from sklearn.preprocessing import MinMaxScaler\n",
    "from tensorflow.keras.models import Sequential\n",
    "from tensorflow.keras.layers import LSTM, Dense, Dropout\n",
    "from tensorflow.keras.callbacks import EarlyStopping, TensorBoard\n",
    "from sklearn.metrics import mean_squared_error, r2_score, mean_absolute_error\n",
    "from sklearn.model_selection import train_test_split\n",
    "\n",
    "# Chuẩn bị dữ liệu\n",
    "# Chọn các cột liên quan cho mô hình\n",
    "data = df[['order_date', 'sales_amount']]\n",
    "\n",
    "# Đặt 'order_date' làm chỉ mục và sắp xếp lại dataframe\n",
    "data['order_date'] = pd.to_datetime(data['order_date'])\n",
    "data = data.set_index('order_date').sort_index()\n",
    "\n",
    "# Chuẩn hóa dữ liệu\n",
    "scaler = MinMaxScaler(feature_range=(0, 1))\n",
    "scaled_data = scaler.fit_transform(data)\n",
    "\n",
    "# Tạo tập huấn luyện và tập kiểm tra\n",
    "time_steps = 7\n",
    "X, y = [], []\n",
    "for i in range(len(scaled_data) - time_steps):\n",
    "    X.append(scaled_data[i:(i + time_steps), 0])\n",
    "    y.append(scaled_data[i + time_steps, 0])\n",
    "X, y = np.array(X), np.array(y)\n",
    "\n",
    "X = X.reshape((X.shape[0], X.shape[1], 1))\n",
    "\n",
    "# Phân chia tập dữ liệu thành tập huấn luyện và tập kiểm tra\n",
    "X_train, X_test, y_train, y_test = train_test_split(X, y, test_size=0.2, random_state=42)\n",
    "\n",
    "# Xây dựng mô hình LSTM\n",
    "model = Sequential()\n",
    "model.add(LSTM(50, return_sequences=True, input_shape=(X_train.shape[1], X_train.shape[2])))\n",
    "model.add(Dropout(0.2))\n",
    "model.add(LSTM(50))\n",
    "model.add(Dense(1))\n",
    "model.compile(optimizer='adam', loss='mse')\n",
    "\n",
    "# Sử dụng EarlyStopping và TensorBoard\n",
    "early_stopping = EarlyStopping(monitor='val_loss', patience=10, restore_best_weights=True)\n",
    "tensorboard = TensorBoard(log_dir='./logs')\n",
    "\n",
    "# Huấn luyện mô hình\n",
    "model.fit(X_train, y_train, epochs=100, batch_size=32, verbose=2)\n",
    "\n",
    "# Đánh giá mô hình\n",
    "train_pred = model.predict(X_train)\n",
    "train_rmse = np.sqrt(mean_squared_error(y_train, train_pred))\n",
    "print(\"Train RMSE:\", train_rmse)\n",
    "\n",
    "test_pred = model.predict(X_test)\n",
    "test_rmse = np.sqrt(mean_squared_error(y_test, test_pred))\n",
    "print(\"Test RMSE:\", test_rmse)\n"
   ]
  },
  {
   "cell_type": "code",
   "execution_count": 118,
   "metadata": {},
   "outputs": [
    {
     "name": "stdout",
     "output_type": "stream",
     "text": [
      "Train R-squared: 0.04288728579128254\n",
      "Test R-squared: 0.02253109112802576\n"
     ]
    }
   ],
   "source": [
    "from sklearn.metrics import r2_score\n",
    "\n",
    "# Tính R-squared trên tập huấn luyện\n",
    "train_r2 = r2_score(y_train, train_pred)\n",
    "print(\"Train R-squared:\", train_r2)\n",
    "\n",
    "# Tính R-squared trên tập kiểm tra\n",
    "test_r2 = r2_score(y_test, test_pred)\n",
    "print(\"Test R-squared:\", test_r2)\n"
   ]
  },
  {
   "cell_type": "code",
   "execution_count": 119,
   "metadata": {},
   "outputs": [
    {
     "name": "stdout",
     "output_type": "stream",
     "text": [
      "Train MAE: 0.004048871413115514\n",
      "Test MAE: 0.004000024161582342\n"
     ]
    }
   ],
   "source": [
    "from sklearn.metrics import mean_absolute_error\n",
    "\n",
    "# Tính MAE trên tập huấn luyện\n",
    "train_mae = mean_absolute_error(y_train, train_pred)\n",
    "print(\"Train MAE:\", train_mae)\n",
    "\n",
    "# Tính MAE trên tập kiểm tra\n",
    "test_mae = mean_absolute_error(y_test, test_pred)\n",
    "print(\"Test MAE:\", test_mae)\n"
   ]
  },
  {
   "cell_type": "code",
   "execution_count": 120,
   "metadata": {},
   "outputs": [
    {
     "data": {
      "image/png": "[encoded data removed]",
      "text/plain": [
       "<Figure size 1000x600 with 1 Axes>"
      ]
     },
     "metadata": {},
     "output_type": "display_data"
    }
   ],
   "source": [
    "df['order_date'] = pd.to_datetime(df['order_date'])\n",
    "df.set_index('order_date', inplace=True)\n",
    "monthly_sales = df['sales_amount'].resample('M').sum()\n",
    "\n",
    "plt.figure(figsize=(10, 6))\n",
    "monthly_sales.plot(kind='area')\n",
    "plt.title('Tổng doanh thu hàng tháng')\n",
    "plt.xlabel('Tháng')\n",
    "plt.ylabel('Doanh thu')\n",
    "plt.show()\n"
   ]
  }
 ],
 "metadata": {
  "kernelspec": {
   "display_name": "Python 3",
   "language": "python",
   "name": "python3"
  },
  "language_info": {
   "codemirror_mode": {
    "name": "ipython",
    "version": 3
   },
   "file_extension": ".py",
   "mimetype": "text/x-python",
   "name": "python",
   "nbconvert_exporter": "python",
   "pygments_lexer": "ipython3",
   "version": "3.12.2"
  }
 },
 "nbformat": 4,
 "nbformat_minor": 4
}
